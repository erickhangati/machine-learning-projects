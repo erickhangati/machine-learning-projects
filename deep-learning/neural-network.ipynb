{
 "cells": [
  {
   "metadata": {},
   "cell_type": "markdown",
   "source": [
    "# Digit Classification with Neural Networks (MNIST)\n",
    "\n",
    "Welcome to this machine learning project!  \n",
    "In this notebook, we’ll build a **2-layer neural network from scratch using NumPy** to classify **handwritten digits** from the popular **MNIST dataset**.\n",
    "\n",
    "\n",
    "## What You’ll Learn\n",
    "\n",
    "- How to load and preprocess image data\n",
    "- How neural networks work under the hood (no black boxes!)\n",
    "- How to implement forward propagation with ReLU and Softmax\n",
    "- How to compute categorical cross-entropy loss\n",
    "- How to implement backpropagation and train the model\n",
    "- How to evaluate a model and visualize predictions\n",
    "\n",
    "\n",
    "## What Is MNIST?\n",
    "\n",
    "- 70,000 grayscale images of handwritten digits (0–9)\n",
    "- Each image is **28 × 28 pixels**\n",
    "- Goal: Predict the correct digit label for each image\n",
    "\n",
    "\n",
    "## Why This Project Matters\n",
    "\n",
    "Understanding how neural networks work **under the hood** is essential for any machine learning practitioner.\n",
    "\n",
    "Instead of relying on high-level libraries like TensorFlow or scikit-learn, this project builds everything from scratch using NumPy — layer by layer, function by function.\n",
    "\n",
    "By doing so, we develop a clear intuition for:\n",
    "- How neural networks process data through layers\n",
    "- What activation functions really do\n",
    "- How predictions turn into probabilities\n",
    "- How loss functions and gradients guide learning\n",
    "\n",
    "This hands-on approach helps bridge the gap between **theory and application**, and lays a solid foundation for tackling more complex models and real-world deep learning problems.\n",
    "\n",
    "\n",
    "Let’s dive in!\n"
   ],
   "id": "4765cc3dee1cc"
  },
  {
   "metadata": {},
   "cell_type": "code",
   "outputs": [],
   "execution_count": null,
   "source": "",
   "id": "4a857dcbe292877f"
  }
 ],
 "metadata": {
  "kernelspec": {
   "display_name": "Python 3",
   "language": "python",
   "name": "python3"
  },
  "language_info": {
   "codemirror_mode": {
    "name": "ipython",
    "version": 2
   },
   "file_extension": ".py",
   "mimetype": "text/x-python",
   "name": "python",
   "nbconvert_exporter": "python",
   "pygments_lexer": "ipython2",
   "version": "2.7.6"
  }
 },
 "nbformat": 4,
 "nbformat_minor": 5
}
