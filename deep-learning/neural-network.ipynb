{
 "cells": [
  {
   "metadata": {},
   "cell_type": "markdown",
   "source": [
    "# Digit Classification with Neural Networks (MNIST)\n",
    "\n",
    "In this notebook, we’ll build a **2-layer neural network from scratch using NumPy** to classify **handwritten digits** from the popular **MNIST dataset**.\n",
    "\n",
    "\n",
    "## What You’ll Learn\n",
    "\n",
    "- How to load and preprocess image data\n",
    "- How neural networks work under the hood (no black boxes!)\n",
    "- How to implement forward propagation with ReLU and Softmax\n",
    "- How to compute categorical cross-entropy loss\n",
    "- How to implement backpropagation and train the model\n",
    "- How to evaluate a model and visualize predictions\n",
    "\n",
    "\n",
    "## What Is MNIST?\n",
    "\n",
    "- 70,000 grayscale images of handwritten digits (0–9)\n",
    "- Each image is **28 × 28 pixels**\n",
    "- Goal: Predict the correct digit label for each image\n",
    "\n",
    "\n",
    "## Why This Project Matters\n",
    "\n",
    "Understanding how neural networks work **under the hood** is essential for any machine learning practitioner.\n",
    "\n",
    "Instead of relying on high-level libraries like TensorFlow or scikit-learn, this project builds everything from scratch using NumPy — layer by layer, function by function.\n",
    "\n",
    "By doing so, we develop a clear intuition for:\n",
    "- How neural networks process data through layers\n",
    "- What activation functions really do\n",
    "- How predictions turn into probabilities\n",
    "- How loss functions and gradients guide learning\n",
    "\n",
    "This hands-on approach helps bridge the gap between **theory and application**, and lays a solid foundation for tackling more complex models and real-world deep learning problems.\n",
    "\n",
    "\n",
    "Let’s dive in!\n"
   ],
   "id": "4765cc3dee1cc"
  },
  {
   "metadata": {},
   "cell_type": "markdown",
   "source": [
    "## 1. Import Required Libraries\n",
    "\n",
    "Before diving into the data and neural network code, we import the key Python libraries we'll use throughout this notebook:\n",
    "\n",
    "- `numpy`  \n",
    "  The foundational numerical computing library in Python. We'll use it to handle vectors, matrices, and all math operations during forward propagation and prediction.\n",
    "\n",
    "- `tensorflow.keras.datasets`  \n",
    "  Provides built-in access to the MNIST dataset. We'll use it to easily load our training and testing images.\n",
    "\n",
    "\n",
    "- `matplotlib.pyplot`  \n",
    "  A plotting library used to visualize images, training progress, and predictions. Essential for understanding how the model sees and classifies the digits.\n",
    "\n",
    "With these three tools, we can build and train a neural network from scratch, visualize results, and better understand how it all works under the hood.\n"
   ],
   "id": "202715dac1c5d593"
  },
  {
   "metadata": {
    "ExecuteTime": {
     "end_time": "2025-07-12T15:50:15.113530Z",
     "start_time": "2025-07-12T15:50:10.892431Z"
    }
   },
   "cell_type": "code",
   "source": [
    "# For loading the dataset\n",
    "import tensorflow as tf\n",
    "\n",
    "# For numerical operations\n",
    "import numpy as np\n",
    "\n",
    "# For plotting and visualizations\n",
    "import matplotlib.pyplot as plt"
   ],
   "id": "3284a1f1f7e00c1d",
   "outputs": [],
   "execution_count": 1
  },
  {
   "metadata": {},
   "cell_type": "markdown",
   "source": [
    "## 2. Load and Explore the MNIST Dataset\n",
    "\n",
    "The MNIST dataset contains 70,000 grayscale images of handwritten digits (0 through 9).  \n",
    "Each image is 28×28 pixels, and our goal is to build a neural network that can correctly classify which digit is shown.\n",
    "\n",
    "We first load the dataset using `tensorflow.keras.datasets`, and visualize a few samples to understand the data we’re working with.\n",
    "\n",
    "Each label corresponds to the correct digit in the image.\n"
   ],
   "id": "b0abdc05e0424027"
  },
  {
   "metadata": {},
   "cell_type": "markdown",
   "source": "### 2.1 Load Dataset",
   "id": "2d84ecbaf09a25f8"
  },
  {
   "metadata": {
    "ExecuteTime": {
     "end_time": "2025-07-12T15:50:15.322618Z",
     "start_time": "2025-07-12T15:50:15.115054Z"
    }
   },
   "cell_type": "code",
   "source": [
    "# Load the dataset (downloads the first time)\n",
    "(X_train, y_train), (X_test, y_test) = tf.keras.datasets.mnist.load_data()\n",
    "\n",
    "# Display dataset shapes\n",
    "print(\"Training set shape:\", X_train.shape)\n",
    "print(\"Test set shape:\", X_test.shape)"
   ],
   "id": "92a0759c9a405129",
   "outputs": [
    {
     "name": "stdout",
     "output_type": "stream",
     "text": [
      "Training set shape: (60000, 28, 28)\n",
      "Test set shape: (10000, 28, 28)\n"
     ]
    }
   ],
   "execution_count": 2
  },
  {
   "metadata": {},
   "cell_type": "markdown",
   "source": "### 2.2 Visualize Some Digits",
   "id": "49a4089ca4424487"
  },
  {
   "metadata": {
    "ExecuteTime": {
     "end_time": "2025-07-12T15:50:15.569548Z",
     "start_time": "2025-07-12T15:50:15.323626Z"
    }
   },
   "cell_type": "code",
   "source": [
    "# Visualize the first 10 digits\n",
    "plt.figure(figsize=(10, 2))\n",
    "\n",
    "for i in range(10):\n",
    "    plt.subplot(1, 10, i + 1)\n",
    "    plt.imshow(X_train[i], cmap=\"gray\")\n",
    "    plt.title(y_train[i])\n",
    "    plt.axis(\"off\")\n",
    "\n",
    "plt.suptitle(\"Sample MNIST Digits\")\n",
    "plt.show()"
   ],
   "id": "a0cdc62bdbeaaa98",
   "outputs": [
    {
     "data": {
      "text/plain": [
       "<Figure size 1000x200 with 10 Axes>"
      ],
      "image/png": "[encoded data removed]"
     },
     "metadata": {},
     "output_type": "display_data"
    }
   ],
   "execution_count": 3
  },
  {
   "metadata": {},
   "cell_type": "markdown",
   "source": [
    "## 3. Data Preprocessing\n",
    "\n",
    "Before passing the images into our neural network, we need to preprocess them.\n",
    "\n",
    "- **Flattening**: Each 28×28 image is reshaped into a 784-length vector so it can be fed into the input layer of the network.\n",
    "- **Normalization**: Pixel values originally range from 0 to 255. We scale them down to the range 0 to 1 to make learning more stable and faster.\n",
    "- **One-hot Encoding**: The labels (0–9) are converted into one-hot vectors so that the network can learn to classify each digit as a separate output class.\n",
    "\n",
    "This prepares the data for forward propagation through the neural network.\n"
   ],
   "id": "dddf63ad2716461"
  },
  {
   "metadata": {},
   "cell_type": "markdown",
   "source": "### 3.1 Flatten Inputs Shape",
   "id": "521d974d3405b64a"
  },
  {
   "metadata": {
    "ExecuteTime": {
     "end_time": "2025-07-12T15:50:15.574903Z",
     "start_time": "2025-07-12T15:50:15.570553Z"
    }
   },
   "cell_type": "code",
   "source": [
    "# Flatten: reshape from (28, 28) → (784,)\n",
    "X_train_flat = X_train.reshape(X_train.shape[0], -1)\n",
    "X_test_flat = X_test.reshape(X_test.shape[0], -1)"
   ],
   "id": "bcf9d969f245db5b",
   "outputs": [],
   "execution_count": 4
  },
  {
   "metadata": {},
   "cell_type": "markdown",
   "source": "### 3.2 Normalize Input Values",
   "id": "b8c2afc6d761565c"
  },
  {
   "metadata": {
    "ExecuteTime": {
     "end_time": "2025-07-12T15:50:15.690979Z",
     "start_time": "2025-07-12T15:50:15.576909Z"
    }
   },
   "cell_type": "code",
   "source": [
    "# Normalize pixel values: from 0–255 → 0–1\n",
    "X_train_flat = X_train_flat / 255.0\n",
    "X_test_flat = X_test_flat / 255.0"
   ],
   "id": "c640405f423310e7",
   "outputs": [],
   "execution_count": 5
  },
  {
   "metadata": {},
   "cell_type": "markdown",
   "source": "### 3.3 One-Hot Encode Output Values",
   "id": "a8ffea52e0ae53dc"
  },
  {
   "metadata": {
    "ExecuteTime": {
     "end_time": "2025-07-12T15:50:15.697993Z",
     "start_time": "2025-07-12T15:50:15.691989Z"
    }
   },
   "cell_type": "code",
   "source": [
    "# One-hot encode the labels:\n",
    "def one_hot_encode(y, num_classes=10):\n",
    "    m = len(y)\n",
    "    one_hot = np.zeros((m, num_classes))\n",
    "    one_hot[np.arange(m), y] = 1\n",
    "    return one_hot\n",
    "\n",
    "\n",
    "y_train_encoded = one_hot_encode(y_train)\n",
    "y_test_encoded = one_hot_encode(y_test)\n",
    "\n",
    "# Print shape checks\n",
    "print(\"X_train_flat shape:\", X_train_flat.shape)\n",
    "print(\"y_train_encoded shape:\", y_train_encoded.shape)"
   ],
   "id": "79bba715666ee1fa",
   "outputs": [
    {
     "name": "stdout",
     "output_type": "stream",
     "text": [
      "X_train_flat shape: (60000, 784)\n",
      "y_train_encoded shape: (60000, 10)\n"
     ]
    }
   ],
   "execution_count": 6
  },
  {
   "metadata": {},
   "cell_type": "markdown",
   "source": [
    "## 4. Implement Forward Propagation (ReLU + Softmax)\n",
    "\n",
    "We’ll now build the forward pass of our neural network using two layers:\n",
    "\n",
    "- **Layer 1 (Hidden)**: 784 inputs → 128 neurons → ReLU activation\n",
    "- **Layer 2 (Output)**: 128 → 10 neurons (for 10 digits) → Softmax activation\n",
    "\n",
    "This is a basic feedforward neural network:\n",
    "1. Multiply inputs by weights and add biases\n",
    "2. Apply non-linear activation\n",
    "3. Pass results to the next layer\n",
    "4. Get final class probabilities from Softmax\n"
   ],
   "id": "f82c5f2340f29bd2"
  },
  {
   "metadata": {},
   "cell_type": "markdown",
   "source": "### 4.1 Initiate Parameters",
   "id": "d0be95392e099438"
  },
  {
   "metadata": {
    "ExecuteTime": {
     "end_time": "2025-07-12T15:50:15.706130Z",
     "start_time": "2025-07-12T15:50:15.699004Z"
    }
   },
   "cell_type": "code",
   "source": [
    "# Layer sizes\n",
    "n_inputs = X_train_flat.shape[1]  # 28x28 flattened\n",
    "n_hidden = 128  # hidden layer neurons\n",
    "n_outputs = 10  # digits 0–9\n",
    "\n",
    "# Weight & bias initialization\n",
    "np.random.seed(0)\n",
    "W1 = 0.01 * np.random.randn(n_inputs, n_hidden)\n",
    "b1 = np.zeros((1, n_hidden))\n",
    "W2 = 0.01 * np.random.randn(n_hidden, n_outputs)\n",
    "b2 = np.zeros((1, n_outputs))"
   ],
   "id": "ae1cd3ceb3dfd17f",
   "outputs": [],
   "execution_count": 7
  },
  {
   "metadata": {},
   "cell_type": "markdown",
   "source": "### 4.2 ReLU Activation",
   "id": "8c55371ef294d952"
  },
  {
   "metadata": {
    "ExecuteTime": {
     "end_time": "2025-07-12T15:50:15.711377Z",
     "start_time": "2025-07-12T15:50:15.707138Z"
    }
   },
   "cell_type": "code",
   "source": [
    "# ReLU activation\n",
    "def relu(z):\n",
    "    return np.maximum(0, z)"
   ],
   "id": "3f17e9816fd41b29",
   "outputs": [],
   "execution_count": 8
  },
  {
   "metadata": {},
   "cell_type": "markdown",
   "source": "### 4.3 Softmax Activation",
   "id": "7949e6ceb5fc46d6"
  },
  {
   "metadata": {
    "ExecuteTime": {
     "end_time": "2025-07-12T15:50:15.717386Z",
     "start_time": "2025-07-12T15:50:15.712387Z"
    }
   },
   "cell_type": "code",
   "source": [
    "# Softmax activation\n",
    "def softmax(z):\n",
    "    exp_values = np.exp(z - np.max(z, axis=1, keepdims=True))  # stability\n",
    "    return exp_values / np.sum(exp_values, axis=1, keepdims=True)"
   ],
   "id": "42a0ac8a0948fe32",
   "outputs": [],
   "execution_count": 9
  },
  {
   "metadata": {},
   "cell_type": "markdown",
   "source": "### 4.4 Forward Propagation",
   "id": "93a67525d469c7a0"
  },
  {
   "metadata": {
    "ExecuteTime": {
     "end_time": "2025-07-12T15:50:15.726096Z",
     "start_time": "2025-07-12T15:50:15.718823Z"
    }
   },
   "cell_type": "code",
   "source": [
    "# Forward pass\n",
    "def forward_pass(x_train):\n",
    "    # Layer 1\n",
    "    z1 = np.dot(x_train, W1) + b1\n",
    "    a1 = relu(z1)\n",
    "\n",
    "    # Layer 2\n",
    "    z2 = np.dot(a1, W2) + b2\n",
    "    a2 = softmax(z2)\n",
    "\n",
    "    return a1, a2\n",
    "\n",
    "\n",
    "# Forward pass on first 5 training samples\n",
    "A1, A2 = forward_pass(X_train_flat[:5])\n",
    "\n",
    "print(\"Output probabilities (first sample):\")\n",
    "print(np.round(A2[0], 3))\n",
    "\n",
    "print(\"Predicted class:\", np.argmax(A2[0]))\n",
    "print(\"True label:\", y_train[0])"
   ],
   "id": "396581036684d8ec",
   "outputs": [
    {
     "name": "stdout",
     "output_type": "stream",
     "text": [
      "Output probabilities (first sample):\n",
      "[0.1   0.1   0.1   0.1   0.099 0.101 0.1   0.099 0.101 0.1  ]\n",
      "Predicted class: 8\n",
      "True label: 5\n"
     ]
    }
   ],
   "execution_count": 10
  },
  {
   "metadata": {},
   "cell_type": "markdown",
   "source": [
    "## 5. Compute Loss (Categorical Cross-Entropy)\n",
    "\n",
    "We now compute the categorical cross-entropy loss, which is a standard loss function for multiclass classification problems.\n",
    "\n",
    "It measures how well the predicted probability distribution (from the softmax layer) matches the true one-hot encoded labels.\n",
    "\n",
    "If the model is confident and correct, the loss is low. If the model is wrong or uncertain, the loss is higher.\n",
    "\n",
    "The formula for a single sample is:\n",
    "\n",
    "$$\n",
    "\\text{Loss} = -\\log(\\hat{y}_{\\text{correct class}})\n",
    "$$\n",
    "\n",
    "We then average this loss over all samples in the batch.\n"
   ],
   "id": "95fee826e4e0bba6"
  },
  {
   "metadata": {
    "ExecuteTime": {
     "end_time": "2025-07-12T15:50:15.736417Z",
     "start_time": "2025-07-12T15:50:15.727102Z"
    }
   },
   "cell_type": "code",
   "source": [
    "# Categorical Cross Entropy\n",
    "def categorical_cross_entropy(y_true, y_pred):\n",
    "    y_pred_clipped = np.clip(y_pred, 1e-7, 1 - 1e-7)\n",
    "    \n",
    "    # Calculate loss for one-hot encoded targets\n",
    "    if len(y_true.shape) == 2:\n",
    "        correct_probs = np.sum(y_pred_clipped * y_true, axis=1)\n",
    "    else:  # for integer labels\n",
    "        correct_probs = y_pred_clipped[np.arange(len(y_pred_clipped)), y_true]\n",
    "    \n",
    "    negative_log_likelihoods = -np.log(correct_probs)\n",
    "    return np.mean(negative_log_likelihoods)\n",
    "        \n",
    "# Forward pass on first 100 training samples\n",
    "A1_100, A2_100 = forward_pass(X_train_flat[:100])\n",
    "y_true = y_train_encoded[:100]\n",
    "\n",
    "# Compute loss\n",
    "loss_100 = categorical_cross_entropy(y_true, A2_100)\n",
    "print(\"Loss:\", loss_100)"
   ],
   "id": "f45e5252d43710e6",
   "outputs": [
    {
     "name": "stdout",
     "output_type": "stream",
     "text": [
      "Loss: 2.30370520670281\n"
     ]
    }
   ],
   "execution_count": 11
  },
  {
   "metadata": {},
   "cell_type": "markdown",
   "source": [
    "## 6. Backpropagation and Training Loop\n",
    "\n",
    "Backpropagation is the process of computing the gradients of the loss function with respect to each parameter (weights and biases), and updating them using gradient descent.\n",
    "\n",
    "We’ll implement a simple version for a 2-layer network:\n",
    "- Output layer uses **Softmax + Categorical Cross-Entropy**\n",
    "- Hidden layer uses **ReLU**\n",
    "\n",
    "We’ll also define a training loop that runs forward and backward passes for a number of steps and prints loss over time.\n"
   ],
   "id": "661bb4090da54a68"
  },
  {
   "metadata": {},
   "cell_type": "markdown",
   "source": "### 6.1 Derivative of ReLU",
   "id": "1d5fb5d4d62cf6fe"
  },
  {
   "metadata": {
    "ExecuteTime": {
     "end_time": "2025-07-12T15:50:15.741433Z",
     "start_time": "2025-07-12T15:50:15.737422Z"
    }
   },
   "cell_type": "code",
   "source": [
    "# Derivative of ReLU\n",
    "def relu_derivative(z):\n",
    "    return (z > 0).astype(float)"
   ],
   "id": "9c44fee80d788193",
   "outputs": [],
   "execution_count": 12
  },
  {
   "metadata": {},
   "cell_type": "markdown",
   "source": "### 6.2 Calculate Gradients",
   "id": "8a44057db1b24134"
  },
  {
   "metadata": {
    "ExecuteTime": {
     "end_time": "2025-07-12T16:04:41.791645Z",
     "start_time": "2025-07-12T15:50:15.742443Z"
    }
   },
   "cell_type": "code",
   "source": [
    "# Hyperparameters\n",
    "learning_rate = 0.5\n",
    "iterations = 2000\n",
    "\n",
    "losses = []\n",
    "previous_loss = float('inf')\n",
    "\n",
    "for i in range(iterations):\n",
    "    # ---- FORWARD PASS ----\n",
    "    Z1 = np.dot(X_train_flat, W1) + b1\n",
    "    A1 = relu(Z1)\n",
    "    Z2 = np.dot(A1, W2) + b2\n",
    "    A2 = softmax(Z2)\n",
    "    \n",
    "    # ---- LOSS ----\n",
    "    loss = categorical_cross_entropy(y_train_encoded, A2)\n",
    "    losses.append(loss)\n",
    "    \n",
    "    # ---- CONVERGENCE CHECK ----\n",
    "    if abs(previous_loss - loss) < 1e-6:\n",
    "        print(f\"Converged at iteration {i} with loss = {loss:.6f}\")\n",
    "        break\n",
    "        \n",
    "    previous_loss = loss\n",
    "    \n",
    "    # ---- BACKWARD PASS ----\n",
    "\n",
    "    # Output layer gradients\n",
    "    dZ2 = A2 - y_train_encoded                # shape (m, 10)\n",
    "    dW2 = np.dot(A1.T, dZ2) / X_train_flat.shape[0]\n",
    "    db2 = np.sum(dZ2, axis=0, keepdims=True) / X_train_flat.shape[0]\n",
    "    \n",
    "    # Hidden layer gradients\n",
    "    dA1 = np.dot(dZ2, W2.T)\n",
    "    dZ1 = dA1 * relu_derivative(Z1)\n",
    "    dW1 = np.dot(X_train_flat.T, dZ1) / X_train_flat.shape[0]\n",
    "    db1 = np.sum(dZ1, axis=0, keepdims=True) / X_train_flat.shape[0]\n",
    "\n",
    "    # ---- UPDATE WEIGHTS ----\n",
    "    W2 -= learning_rate * dW2\n",
    "    b2 -= learning_rate * db2\n",
    "    W1 -= learning_rate * dW1\n",
    "    b1 -= learning_rate * db1\n",
    "\n",
    "    # Print progress\n",
    "    if i % 100 == 0 or i == iterations - 1:\n",
    "        print(f\"Iteration {i}: Loss = {loss:.4f}\")"
   ],
   "id": "c448b4957b66a2b4",
   "outputs": [
    {
     "name": "stdout",
     "output_type": "stream",
     "text": [
      "Iteration 0: Loss = 2.3024\n",
      "Iteration 100: Loss = 0.3341\n",
      "Iteration 200: Loss = 0.2558\n",
      "Iteration 300: Loss = 0.2109\n",
      "Iteration 400: Loss = 0.1790\n",
      "Iteration 500: Loss = 0.1553\n",
      "Iteration 600: Loss = 0.1368\n",
      "Iteration 700: Loss = 0.1221\n",
      "Iteration 800: Loss = 0.1100\n",
      "Iteration 900: Loss = 0.0999\n",
      "Iteration 1000: Loss = 0.0915\n",
      "Iteration 1100: Loss = 0.0842\n",
      "Iteration 1200: Loss = 0.0780\n",
      "Iteration 1300: Loss = 0.0725\n",
      "Iteration 1400: Loss = 0.0677\n",
      "Iteration 1500: Loss = 0.0635\n",
      "Iteration 1600: Loss = 0.0596\n",
      "Iteration 1700: Loss = 0.0562\n",
      "Iteration 1800: Loss = 0.0531\n",
      "Iteration 1900: Loss = 0.0502\n",
      "Iteration 1999: Loss = 0.0476\n"
     ]
    }
   ],
   "execution_count": 13
  },
  {
   "metadata": {},
   "cell_type": "markdown",
   "source": [
    "## 7. Evaluate the Trained Model on the Test Set\n",
    "\n",
    "After training, we evaluate how well the model performs on unseen data. This helps us measure how well the model generalizes — not just memorizes the training set.\n",
    "\n",
    "We’ll:\n",
    "- Run a forward pass on the test set\n",
    "- Get predicted classes (argmax of probabilities)\n",
    "- Compare them to the true labels\n",
    "- Compute accuracy as the proportion of correct predictions\n"
   ],
   "id": "2beb37bd1466b3a6"
  },
  {
   "metadata": {
    "ExecuteTime": {
     "end_time": "2025-07-12T16:04:41.855047Z",
     "start_time": "2025-07-12T16:04:41.794022Z"
    }
   },
   "cell_type": "code",
   "source": [
    "# ---- Forward pass on test data ----\n",
    "Z1_test = np.dot(X_test_flat, W1) + b1\n",
    "A1_test = relu(Z1_test)\n",
    "Z2_test = np.dot(A1_test, W2) + b2\n",
    "A2_test = softmax(Z2_test)\n",
    "\n",
    "# ---- Get predicted class labels ----\n",
    "y_pred = np.argmax(A2_test, axis=1)\n",
    "y_true = y_test  # These were not one-hot encoded\n",
    "\n",
    "# ---- Compute accuracy ----\n",
    "def accuracy(y_true, y_pred):\n",
    "    return np.mean(y_true == y_pred)\n",
    "\n",
    "test_accuracy = accuracy(y_true, y_pred)\n",
    "print(f\"Test Accuracy: {test_accuracy * 100:.2f}%\")"
   ],
   "id": "2bc4d225c09dcff0",
   "outputs": [
    {
     "name": "stdout",
     "output_type": "stream",
     "text": [
      "Test Accuracy: 97.47%\n"
     ]
    }
   ],
   "execution_count": 14
  },
  {
   "metadata": {},
   "cell_type": "markdown",
   "source": [
    "## Training Loss Over Time\n",
    "\n",
    "Visualizing the training loss helps us understand how the model is learning.\n",
    "\n",
    "- The loss starts high and decreases over time as the model improves.\n",
    "- A smooth, downward-sloping curve indicates successful learning.\n",
    "- When the curve flattens, the model is converging (no longer making big improvements).\n",
    "\n",
    "This plot gives a quick visual confirmation that training proceeded as expected.\n"
   ],
   "id": "21eeeb3762f48cef"
  },
  {
   "metadata": {
    "ExecuteTime": {
     "end_time": "2025-07-12T16:04:41.976335Z",
     "start_time": "2025-07-12T16:04:41.856052Z"
    }
   },
   "cell_type": "code",
   "source": [
    "plt.figure(figsize=(8, 6))\n",
    "plt.plot(losses)\n",
    "plt.title(\"Training Loss Over Iterations\")\n",
    "plt.xlabel(\"Iteration\")\n",
    "plt.ylabel(\"Loss\")\n",
    "plt.grid(True)\n",
    "plt.show()"
   ],
   "id": "3beae5aaa3fc4371",
   "outputs": [
    {
     "data": {
      "text/plain": [
       "<Figure size 800x600 with 1 Axes>"
      ],
      "image/png": "[encoded data removed]"
     },
     "metadata": {},
     "output_type": "display_data"
    }
   ],
   "execution_count": 15
  },
  {
   "metadata": {},
   "cell_type": "markdown",
   "source": [
    "## Conclusion\n",
    "\n",
    "In this project, we implemented a fully functional neural network from scratch using only NumPy — no ML libraries. Despite its simplicity, the model achieved **97.47% accuracy** on the MNIST test set.\n",
    "\n",
    "This demonstrates a solid understanding of:\n",
    "- Forward propagation\n",
    "- Activation functions (ReLU, Softmax)\n",
    "- Categorical cross-entropy loss\n",
    "- Backpropagation with gradient descent\n",
    "\n",
    "It's a powerful foundation for more advanced deep learning concepts, and a great portfolio project showing mastery beyond just using libraries.\n"
   ],
   "id": "9b74e78943870c01"
  },
  {
   "metadata": {},
   "cell_type": "code",
   "source": "",
   "id": "1b800d30e61b8f8b",
   "outputs": [],
   "execution_count": null
  }
 ],
 "metadata": {
  "kernelspec": {
   "display_name": "Python 3",
   "language": "python",
   "name": "python3"
  },
  "language_info": {
   "codemirror_mode": {
    "name": "ipython",
    "version": 2
   },
   "file_extension": ".py",
   "mimetype": "text/x-python",
   "name": "python",
   "nbconvert_exporter": "python",
   "pygments_lexer": "ipython2",
   "version": "2.7.6"
  }
 },
 "nbformat": 4,
 "nbformat_minor": 5
}
