{
 "cells": [
  {
   "metadata": {},
   "cell_type": "markdown",
   "source": [
    "# House Price Prediction with Linear Regression (NumPy-Only)\n",
    "\n",
    "Predicting house prices is a classic machine learning problem — simple on the surface, but rich in practical insight. In this project, we’ll build a linear regression model **from scratch** using only **NumPy** and **Pandas** only for data loading and exploration., without relying on high-level ML libraries like scikit-learn or TensorFlow.\n",
    "\n",
    "We'll use the [Seattle House Price Prediction dataset](https://www.kaggle.com/datasets/samuelcortinhas/house-price-prediction-seattle) from Kaggle, which contains features like square footage, number of bedrooms, and zip code to predict the price of a house.\n",
    "\n",
    "This project will walk through:\n",
    "- Loading and preprocessing real-world data\n",
    "- Implementing the cost function and gradient descent from scratch\n",
    "- Applying feature scaling for stable training\n",
    "- Visualizing the model's learning progress\n",
    "- Making predictions and evaluating performance\n",
    "\n",
    "> **Why build from scratch?**  \n",
    "> Anyone can `.fit()` a model, but writing the algorithm manually shows true understanding — something recruiters and hiring managers value highly. It's also the best way to demystify what's happening under the hood of machine learning.\n",
    "\n",
    "Let's get started!"
   ],
   "id": "b91e03fdc3781d79"
  },
  {
   "metadata": {},
   "cell_type": "markdown",
   "source": "## Step 1: Import Libraries",
   "id": "b67da87209244298"
  },
  {
   "metadata": {
    "ExecuteTime": {
     "end_time": "2025-09-23T03:59:00.900297Z",
     "start_time": "2025-09-23T03:59:00.785453Z"
    }
   },
   "cell_type": "code",
   "source": [
    "import math  # Mathematical functions\n",
    "import warnings\n",
    "\n",
    "import matplotlib.pyplot as plt  # Data visualizations\n",
    "import numpy as np  # Numerical operations\n",
    "import pandas as pd  # Data manipulations\n",
    "import seaborn as sns  # Advanced visualizations\n",
    "from sklearn.metrics import mean_absolute_error, mean_squared_error, \\\n",
    "    r2_score  # Model evaluation\n",
    "\n",
    "warnings.filterwarnings('ignore')  # Supress unnecessary warnings\n",
    "\n",
    "sns.set(style='white')\n",
    "plt.rcParams['figure.figsize'] = (10, 5)\n",
    "plt.rcParams['axes.grid'] = True\n",
    "plt.rcParams['axes.grid.axis'] = 'y'\n",
    "plt.rcParams['grid.linestyle'] = '--'\n",
    "plt.rcParams['grid.alpha'] = 0.5"
   ],
   "id": "3a0d6b7cecc0cdd9",
   "outputs": [],
   "execution_count": 1
  },
  {
   "metadata": {},
   "cell_type": "markdown",
   "source": [
    "## Step 2: Load and Explore the Dataset\n",
    "\n",
    "To begin, we load the dataset containing real-world housing data from Seattle, WA. This dataset includes features such as square footage, number of bedrooms, location (zip code), and more — all of which influence the price of a house.\n",
    "\n",
    "Let's load the data and take a first look at its structure."
   ],
   "id": "83bb90fc46ae7a75"
  },
  {
   "metadata": {},
   "cell_type": "markdown",
   "source": [
    "### 2.1 Load Dataset\n",
    "\n",
    "Let’s load the dataset using Pandas."
   ],
   "id": "c06c740c4bd3752a"
  },
  {
   "metadata": {
    "ExecuteTime": {
     "end_time": "2025-09-23T03:59:00.978714Z",
     "start_time": "2025-09-23T03:59:00.959721Z"
    }
   },
   "cell_type": "code",
   "source": [
    "# Loading the dataset from the csv file \n",
    "data_train = pd.read_csv('seattle-housing-train-data.csv')\n",
    "data_test = pd.read_csv('seattle-housing-test-data.csv')\n",
    "\n",
    "# Preview first few rows\n",
    "data_train.head()"
   ],
   "id": "13d0313abc0a2206",
   "outputs": [
    {
     "data": {
      "text/plain": [
       "   beds  baths    size size_units  lot_size lot_size_units  zip_code  \\\n",
       "0     3    2.5  2590.0       sqft   6000.00           sqft     98144   \n",
       "1     4    2.0  2240.0       sqft      0.31           acre     98106   \n",
       "2     4    3.0  2040.0       sqft   3783.00           sqft     98107   \n",
       "3     4    3.0  3800.0       sqft   5175.00           sqft     98199   \n",
       "4     2    2.0  1042.0       sqft       NaN            NaN     98102   \n",
       "\n",
       "       price  \n",
       "0   795000.0  \n",
       "1   915000.0  \n",
       "2   950000.0  \n",
       "3  1950000.0  \n",
       "4   950000.0  "
      ],
      "text/html": [
       "<div>\n",
       "<style scoped>\n",
       "    .dataframe tbody tr th:only-of-type {\n",
       "        vertical-align: middle;\n",
       "    }\n",
       "\n",
       "    .dataframe tbody tr th {\n",
       "        vertical-align: top;\n",
       "    }\n",
       "\n",
       "    .dataframe thead th {\n",
       "        text-align: right;\n",
       "    }\n",
       "</style>\n",
       "<table border=\"1\" class=\"dataframe\">\n",
       "  <thead>\n",
       "    <tr style=\"text-align: right;\">\n",
       "      <th></th>\n",
       "      <th>beds</th>\n",
       "      <th>baths</th>\n",
       "      <th>size</th>\n",
       "      <th>size_units</th>\n",
       "      <th>lot_size</th>\n",
       "      <th>lot_size_units</th>\n",
       "      <th>zip_code</th>\n",
       "      <th>price</th>\n",
       "    </tr>\n",
       "  </thead>\n",
       "  <tbody>\n",
       "    <tr>\n",
       "      <th>0</th>\n",
       "      <td>3</td>\n",
       "      <td>2.5</td>\n",
       "      <td>2590.0</td>\n",
       "      <td>sqft</td>\n",
       "      <td>6000.00</td>\n",
       "      <td>sqft</td>\n",
       "      <td>98144</td>\n",
       "      <td>795000.0</td>\n",
       "    </tr>\n",
       "    <tr>\n",
       "      <th>1</th>\n",
       "      <td>4</td>\n",
       "      <td>2.0</td>\n",
       "      <td>2240.0</td>\n",
       "      <td>sqft</td>\n",
       "      <td>0.31</td>\n",
       "      <td>acre</td>\n",
       "      <td>98106</td>\n",
       "      <td>915000.0</td>\n",
       "    </tr>\n",
       "    <tr>\n",
       "      <th>2</th>\n",
       "      <td>4</td>\n",
       "      <td>3.0</td>\n",
       "      <td>2040.0</td>\n",
       "      <td>sqft</td>\n",
       "      <td>3783.00</td>\n",
       "      <td>sqft</td>\n",
       "      <td>98107</td>\n",
       "      <td>950000.0</td>\n",
       "    </tr>\n",
       "    <tr>\n",
       "      <th>3</th>\n",
       "      <td>4</td>\n",
       "      <td>3.0</td>\n",
       "      <td>3800.0</td>\n",
       "      <td>sqft</td>\n",
       "      <td>5175.00</td>\n",
       "      <td>sqft</td>\n",
       "      <td>98199</td>\n",
       "      <td>1950000.0</td>\n",
       "    </tr>\n",
       "    <tr>\n",
       "      <th>4</th>\n",
       "      <td>2</td>\n",
       "      <td>2.0</td>\n",
       "      <td>1042.0</td>\n",
       "      <td>sqft</td>\n",
       "      <td>NaN</td>\n",
       "      <td>NaN</td>\n",
       "      <td>98102</td>\n",
       "      <td>950000.0</td>\n",
       "    </tr>\n",
       "  </tbody>\n",
       "</table>\n",
       "</div>"
      ]
     },
     "execution_count": 2,
     "metadata": {},
     "output_type": "execute_result"
    }
   ],
   "execution_count": 2
  },
  {
   "metadata": {},
   "cell_type": "markdown",
   "source": [
    "### 2.2 Understanding the Data\n",
    "\n",
    "Before we begin modeling, it's crucial to understand the structure and quality of the dataset. This step helps us:\n",
    "\n",
    "- Check how many samples and features we have\n",
    "- Identify any missing values or anomalies\n",
    "- Data types\n",
    "\n",
    "Exploratory steps like these ensure that we don't feed incomplete or misleading data into our model."
   ],
   "id": "ae34ff1ea834f203"
  },
  {
   "metadata": {
    "ExecuteTime": {
     "end_time": "2025-09-23T03:59:01.001610Z",
     "start_time": "2025-09-23T03:59:00.979723Z"
    }
   },
   "cell_type": "code",
   "source": [
    "# Get a concise summary of the dataset\n",
    "data_train.info()"
   ],
   "id": "f4b850368c61d30f",
   "outputs": [
    {
     "name": "stdout",
     "output_type": "stream",
     "text": [
      "<class 'pandas.core.frame.DataFrame'>\n",
      "RangeIndex: 2016 entries, 0 to 2015\n",
      "Data columns (total 8 columns):\n",
      " #   Column          Non-Null Count  Dtype  \n",
      "---  ------          --------------  -----  \n",
      " 0   beds            2016 non-null   int64  \n",
      " 1   baths           2016 non-null   float64\n",
      " 2   size            2016 non-null   float64\n",
      " 3   size_units      2016 non-null   object \n",
      " 4   lot_size        1669 non-null   float64\n",
      " 5   lot_size_units  1669 non-null   object \n",
      " 6   zip_code        2016 non-null   int64  \n",
      " 7   price           2016 non-null   float64\n",
      "dtypes: float64(4), int64(2), object(2)\n",
      "memory usage: 126.1+ KB\n"
     ]
    }
   ],
   "execution_count": 3
  },
  {
   "metadata": {},
   "cell_type": "markdown",
   "source": [
    "## Step 3: Data Cleaning\n",
    "\n",
    "Our dataset is fairly simple, but still needs some cleaning to ensure the features are usable in a linear regression model.\n",
    "\n",
    "Key issues identified:\n",
    "- The `lot_size` column uses **mixed units** (`sqft` and `acre`), which need to be standardized\n",
    "- The `size` column uses a separate `size_units` column — we should ensure all sizes are in **square feet**\n",
    "- Some rows contain **missing values**\n",
    "- We'll keep only the features that make sense for price prediction, and drop unit-related columns after standardization\n",
    "\n",
    "Let’s clean the data accordingly.\n"
   ],
   "id": "5c81054354615575"
  },
  {
   "metadata": {},
   "cell_type": "markdown",
   "source": [
    "### 3.1 Checking for Duplicates\n",
    "\n",
    "Sometimes, datasets contain the exact same row more than once, maybe a property was accidentally logged twice or included in multiple records. If we don’t remove these duplicates, our model will give extra weight to those repeated rows, biasing the results."
   ],
   "id": "3622b8b8eafdcee0"
  },
  {
   "metadata": {
    "ExecuteTime": {
     "end_time": "2025-09-23T03:59:01.007775Z",
     "start_time": "2025-09-23T03:59:01.002640Z"
    }
   },
   "cell_type": "code",
   "source": [
    "def check_duplicates(data):\n",
    "    \"\"\"\n",
    "    Checks for duplicate rows and drops them if found.\n",
    "    :param data: (pd.DataFrame) The dataset\n",
    "    :return: (pd.DataFrame) Cleaned dataset\n",
    "    \"\"\"\n",
    "    duplicates = data.duplicated().sum()\n",
    "    print(f'Duplicate rows: {duplicates}')\n",
    "\n",
    "    if duplicates > 0:\n",
    "        data = data.drop_duplicates()\n",
    "        print(\"Duplicates dropped.\")\n",
    "    return data"
   ],
   "id": "edba2c292e61900a",
   "outputs": [],
   "execution_count": 4
  },
  {
   "metadata": {
    "ExecuteTime": {
     "end_time": "2025-09-23T03:59:01.045192Z",
     "start_time": "2025-09-23T03:59:01.037260Z"
    }
   },
   "cell_type": "code",
   "source": [
    "# Check for duplicates (Train Set)\n",
    "data_train = check_duplicates(data=data_train)"
   ],
   "id": "66e2069672a6f43",
   "outputs": [
    {
     "name": "stdout",
     "output_type": "stream",
     "text": [
      "Duplicate rows: 9\n",
      "Duplicates dropped.\n"
     ]
    }
   ],
   "execution_count": 5
  },
  {
   "metadata": {
    "ExecuteTime": {
     "end_time": "2025-09-23T03:59:01.086092Z",
     "start_time": "2025-09-23T03:59:01.074187Z"
    }
   },
   "cell_type": "code",
   "source": [
    "# Check duplicates (Test Set)\n",
    "data_test = check_duplicates(data=data_test)"
   ],
   "id": "ec9b2540d9ece6f2",
   "outputs": [
    {
     "name": "stdout",
     "output_type": "stream",
     "text": [
      "Duplicate rows: 1\n",
      "Duplicates dropped.\n"
     ]
    }
   ],
   "execution_count": 6
  },
  {
   "metadata": {},
   "cell_type": "markdown",
   "source": [
    "### 3.2 Fix Missing Values and Standardize Columns\n",
    "\n",
    "Missing data is another common issue. In our dataset, we’ve already noticed that the `lot_size` and `lot_size_units` columns don’t have complete information for every house. If we ignore this, the model might crash or learn incorrect patterns.\n",
    "\n",
    "There are several ways to deal with missing values:\n",
    "- Dropping rows that are incomplete.\n",
    "- Filling them in (imputation) using averages, medians, or even more advanced techniques.\n",
    "\n",
    "The right choice depends on how important the column is and how much data is missing. For this case, the important column for us is the `lot_size`. We will fill the missing values with the median, but first we need to make the column values consistent since it has a mix of `sqft` and `acre`."
   ],
   "id": "74dd589e7de89a53"
  },
  {
   "metadata": {
    "ExecuteTime": {
     "end_time": "2025-09-23T03:59:01.195691Z",
     "start_time": "2025-09-23T03:59:01.191505Z"
    }
   },
   "cell_type": "code",
   "source": [
    "def check_missing_values(data):\n",
    "    \"\"\"\n",
    "    Identifies and replaces empty strings with NaN, \n",
    "    then prints missing value counts.\n",
    "    :param data: (pd.DataFrame) The dataset\n",
    "    :return: (pd.DataFrame) Dataset with NaNs marked\n",
    "    \"\"\"\n",
    "    categorical_cols = data.select_dtypes(include='object').columns\n",
    "    data[categorical_cols] = data[categorical_cols].replace(r'^\\s*$', np.nan, regex=True)\n",
    "\n",
    "    print(\"Missing values per column:\")\n",
    "    print(data.isnull().sum())\n",
    "    return data"
   ],
   "id": "8a72ffc3cb667985",
   "outputs": [],
   "execution_count": 7
  },
  {
   "metadata": {
    "ExecuteTime": {
     "end_time": "2025-09-23T03:59:01.225868Z",
     "start_time": "2025-09-23T03:59:01.218076Z"
    }
   },
   "cell_type": "code",
   "source": [
    "# Check for missing values (Train Set)\n",
    "data_train = check_missing_values(data=data_train)"
   ],
   "id": "867f0e69bb03f4c7",
   "outputs": [
    {
     "name": "stdout",
     "output_type": "stream",
     "text": [
      "Missing values per column:\n",
      "beds                0\n",
      "baths               0\n",
      "size                0\n",
      "size_units          0\n",
      "lot_size          347\n",
      "lot_size_units    347\n",
      "zip_code            0\n",
      "price               0\n",
      "dtype: int64\n"
     ]
    }
   ],
   "execution_count": 8
  },
  {
   "metadata": {
    "ExecuteTime": {
     "end_time": "2025-09-23T03:59:01.262201Z",
     "start_time": "2025-09-23T03:59:01.256333Z"
    }
   },
   "cell_type": "code",
   "source": [
    "# Check for missing values (Test Set)\n",
    "data_test = check_missing_values(data=data_test)"
   ],
   "id": "b5f9b2b3af1338be",
   "outputs": [
    {
     "name": "stdout",
     "output_type": "stream",
     "text": [
      "Missing values per column:\n",
      "beds               0\n",
      "baths              0\n",
      "size               0\n",
      "size_units         0\n",
      "lot_size          77\n",
      "lot_size_units    77\n",
      "zip_code           0\n",
      "price              0\n",
      "dtype: int64\n"
     ]
    }
   ],
   "execution_count": 9
  },
  {
   "metadata": {
    "ExecuteTime": {
     "end_time": "2025-09-23T03:59:01.285854Z",
     "start_time": "2025-09-23T03:59:01.280618Z"
    }
   },
   "cell_type": "code",
   "source": [
    "def fix_missing_values(data, is_train=False, median=None):\n",
    "    \"\"\"\n",
    "    Cleans and standardizes lot size data:\n",
    "      - Converts 'lot_size' from acres to square feet where necessary\n",
    "      - Fills missing values with the median (from train if is_train=True, otherwise provided)\n",
    "      - Renames 'size' column to 'size_sqft'\n",
    "      - Drops redundant columns: ['lot_size', 'lot_size_units', 'size_units']\n",
    "    \n",
    "    Parameters\n",
    "    ----------\n",
    "    data : pd.DataFrame\n",
    "        The dataset to clean.\n",
    "    is_train : bool, optional (default=False)\n",
    "        If True, compute median from this dataset. If False, use provided median.\n",
    "    median : float, optional\n",
    "        Median value from training data. Required if is_train=False.\n",
    "    \n",
    "    Returns\n",
    "    -------\n",
    "    pd.DataFrame\n",
    "        Cleaned dataset with standardized 'lot_size_sqft' and no redundant columns.\n",
    "    float\n",
    "        The computed median (if is_train=True), else the passed median.\n",
    "    \"\"\"\n",
    "\n",
    "    # Convert lot size to sqft\n",
    "    if \"lot_size\" in data.columns and \"lot_size_units\" in data.columns:\n",
    "        data.insert(3, \"lot_size_sqft\", data.apply(\n",
    "            lambda row: row['lot_size'] * 43560 if row['lot_size_units'] == 'acre' else row['lot_size'],\n",
    "            axis=1\n",
    "        ))\n",
    "    else:\n",
    "        raise ValueError(\"Expected columns ['lot_size', 'lot_size_units'] not found in dataset.\")\n",
    "\n",
    "    # Handle missing values\n",
    "    if is_train:\n",
    "        median = data['lot_size_sqft'].median()\n",
    "    elif median is None:\n",
    "        raise ValueError(\"Median must be provided when is_train=False.\")\n",
    "\n",
    "    data['lot_size_sqft'] = data['lot_size_sqft'].fillna(median)\n",
    "\n",
    "    # Rename 'size' column if present\n",
    "    if 'size' in data.columns:\n",
    "        data = data.rename(columns={'size': 'size_sqft'})\n",
    "\n",
    "    # Drop redundant columns if they exist\n",
    "    drop_cols = [col for col in ['lot_size', 'lot_size_units', 'size_units'] if col in data.columns]\n",
    "    data = data.drop(columns=drop_cols)\n",
    "\n",
    "    return data, median"
   ],
   "id": "b759a04c6315f2a",
   "outputs": [],
   "execution_count": 10
  },
  {
   "metadata": {
    "ExecuteTime": {
     "end_time": "2025-09-23T03:59:01.329779Z",
     "start_time": "2025-09-23T03:59:01.286866Z"
    }
   },
   "cell_type": "code",
   "source": [
    "# Standardize columns and fix missing values (Train Set)\n",
    "data_train, median_train = fix_missing_values(data=data_train, is_train=True)\n",
    "data_train.head()"
   ],
   "id": "dc02809c33bef1dc",
   "outputs": [
    {
     "data": {
      "text/plain": [
       "   beds  baths  size_sqft  lot_size_sqft  zip_code      price\n",
       "0     3    2.5     2590.0         6000.0     98144   795000.0\n",
       "1     4    2.0     2240.0        13503.6     98106   915000.0\n",
       "2     4    3.0     2040.0         3783.0     98107   950000.0\n",
       "3     4    3.0     3800.0         5175.0     98199  1950000.0\n",
       "4     2    2.0     1042.0         5000.0     98102   950000.0"
      ],
      "text/html": [
       "<div>\n",
       "<style scoped>\n",
       "    .dataframe tbody tr th:only-of-type {\n",
       "        vertical-align: middle;\n",
       "    }\n",
       "\n",
       "    .dataframe tbody tr th {\n",
       "        vertical-align: top;\n",
       "    }\n",
       "\n",
       "    .dataframe thead th {\n",
       "        text-align: right;\n",
       "    }\n",
       "</style>\n",
       "<table border=\"1\" class=\"dataframe\">\n",
       "  <thead>\n",
       "    <tr style=\"text-align: right;\">\n",
       "      <th></th>\n",
       "      <th>beds</th>\n",
       "      <th>baths</th>\n",
       "      <th>size_sqft</th>\n",
       "      <th>lot_size_sqft</th>\n",
       "      <th>zip_code</th>\n",
       "      <th>price</th>\n",
       "    </tr>\n",
       "  </thead>\n",
       "  <tbody>\n",
       "    <tr>\n",
       "      <th>0</th>\n",
       "      <td>3</td>\n",
       "      <td>2.5</td>\n",
       "      <td>2590.0</td>\n",
       "      <td>6000.0</td>\n",
       "      <td>98144</td>\n",
       "      <td>795000.0</td>\n",
       "    </tr>\n",
       "    <tr>\n",
       "      <th>1</th>\n",
       "      <td>4</td>\n",
       "      <td>2.0</td>\n",
       "      <td>2240.0</td>\n",
       "      <td>13503.6</td>\n",
       "      <td>98106</td>\n",
       "      <td>915000.0</td>\n",
       "    </tr>\n",
       "    <tr>\n",
       "      <th>2</th>\n",
       "      <td>4</td>\n",
       "      <td>3.0</td>\n",
       "      <td>2040.0</td>\n",
       "      <td>3783.0</td>\n",
       "      <td>98107</td>\n",
       "      <td>950000.0</td>\n",
       "    </tr>\n",
       "    <tr>\n",
       "      <th>3</th>\n",
       "      <td>4</td>\n",
       "      <td>3.0</td>\n",
       "      <td>3800.0</td>\n",
       "      <td>5175.0</td>\n",
       "      <td>98199</td>\n",
       "      <td>1950000.0</td>\n",
       "    </tr>\n",
       "    <tr>\n",
       "      <th>4</th>\n",
       "      <td>2</td>\n",
       "      <td>2.0</td>\n",
       "      <td>1042.0</td>\n",
       "      <td>5000.0</td>\n",
       "      <td>98102</td>\n",
       "      <td>950000.0</td>\n",
       "    </tr>\n",
       "  </tbody>\n",
       "</table>\n",
       "</div>"
      ]
     },
     "execution_count": 11,
     "metadata": {},
     "output_type": "execute_result"
    }
   ],
   "execution_count": 11
  },
  {
   "metadata": {
    "ExecuteTime": {
     "end_time": "2025-09-23T03:59:01.345204Z",
     "start_time": "2025-09-23T03:59:01.330341Z"
    }
   },
   "cell_type": "code",
   "source": [
    "# Standardize columns and fix missing values (Test Set)\n",
    "data_test, _ = fix_missing_values(data=data_test, is_train=False, median=median_train)\n",
    "data_test.head()"
   ],
   "id": "f40e24434628b684",
   "outputs": [
    {
     "data": {
      "text/plain": [
       "   beds  baths  size_sqft  lot_size_sqft  zip_code      price\n",
       "0     3    3.0     2850.0         4200.0     98119  1175000.0\n",
       "1     4    5.0     3040.0         5002.0     98106  1057500.0\n",
       "2     3    1.0     1290.0         6048.0     98125   799000.0\n",
       "3     3    2.0     2360.0        12196.8     98188   565000.0\n",
       "4     3    3.5     1942.0         1603.0     98107  1187000.0"
      ],
      "text/html": [
       "<div>\n",
       "<style scoped>\n",
       "    .dataframe tbody tr th:only-of-type {\n",
       "        vertical-align: middle;\n",
       "    }\n",
       "\n",
       "    .dataframe tbody tr th {\n",
       "        vertical-align: top;\n",
       "    }\n",
       "\n",
       "    .dataframe thead th {\n",
       "        text-align: right;\n",
       "    }\n",
       "</style>\n",
       "<table border=\"1\" class=\"dataframe\">\n",
       "  <thead>\n",
       "    <tr style=\"text-align: right;\">\n",
       "      <th></th>\n",
       "      <th>beds</th>\n",
       "      <th>baths</th>\n",
       "      <th>size_sqft</th>\n",
       "      <th>lot_size_sqft</th>\n",
       "      <th>zip_code</th>\n",
       "      <th>price</th>\n",
       "    </tr>\n",
       "  </thead>\n",
       "  <tbody>\n",
       "    <tr>\n",
       "      <th>0</th>\n",
       "      <td>3</td>\n",
       "      <td>3.0</td>\n",
       "      <td>2850.0</td>\n",
       "      <td>4200.0</td>\n",
       "      <td>98119</td>\n",
       "      <td>1175000.0</td>\n",
       "    </tr>\n",
       "    <tr>\n",
       "      <th>1</th>\n",
       "      <td>4</td>\n",
       "      <td>5.0</td>\n",
       "      <td>3040.0</td>\n",
       "      <td>5002.0</td>\n",
       "      <td>98106</td>\n",
       "      <td>1057500.0</td>\n",
       "    </tr>\n",
       "    <tr>\n",
       "      <th>2</th>\n",
       "      <td>3</td>\n",
       "      <td>1.0</td>\n",
       "      <td>1290.0</td>\n",
       "      <td>6048.0</td>\n",
       "      <td>98125</td>\n",
       "      <td>799000.0</td>\n",
       "    </tr>\n",
       "    <tr>\n",
       "      <th>3</th>\n",
       "      <td>3</td>\n",
       "      <td>2.0</td>\n",
       "      <td>2360.0</td>\n",
       "      <td>12196.8</td>\n",
       "      <td>98188</td>\n",
       "      <td>565000.0</td>\n",
       "    </tr>\n",
       "    <tr>\n",
       "      <th>4</th>\n",
       "      <td>3</td>\n",
       "      <td>3.5</td>\n",
       "      <td>1942.0</td>\n",
       "      <td>1603.0</td>\n",
       "      <td>98107</td>\n",
       "      <td>1187000.0</td>\n",
       "    </tr>\n",
       "  </tbody>\n",
       "</table>\n",
       "</div>"
      ]
     },
     "execution_count": 12,
     "metadata": {},
     "output_type": "execute_result"
    }
   ],
   "execution_count": 12
  },
  {
   "metadata": {},
   "cell_type": "markdown",
   "source": [
    "## Step 4: Exploratory Data Analysis (EDA)\n",
    "\n",
    "Once our data is cleaned, the next step is to explore it. EDA is like detective work: we’re trying to uncover patterns, relationships, and potential problems in the data before we build any models.\n",
    "\n",
    "The goal here isn’t just to generate pretty charts, it’s to understand how the features behave, how they relate to the target variable (`price`), and whether there are any issues (like outliers or skewed distributions) that could confuse our model.\n",
    "\n",
    "We’ll look at the data in three stages: univariate (one variable at a time), bivariate (two variables), and multivariate (many variables together).\n"
   ],
   "id": "affbb81e3a7b284c"
  },
  {
   "metadata": {},
   "cell_type": "markdown",
   "source": [
    "### 4.1 Univariate Analysis of Target Variable (price)\n",
    "\n",
    "We’ll start by focusing on our target variable: `price`. Since our whole project is about predicting house prices, it makes sense to deeply understand what those prices look like in the dataset."
   ],
   "id": "502e0455391d2811"
  },
  {
   "metadata": {},
   "cell_type": "markdown",
   "source": [
    "#### 4.1.1 Statistical Information\n",
    "\n",
    "The `.describe()` method gives us basic summary statistics — mean, median, minimum, maximum, and quartiles. This quick snapshot helps us see whether house prices are generally high, low, or spread out across a wide range."
   ],
   "id": "41fc7107bfae6888"
  },
  {
   "metadata": {
    "ExecuteTime": {
     "end_time": "2025-09-23T03:59:01.357271Z",
     "start_time": "2025-09-23T03:59:01.346212Z"
    }
   },
   "cell_type": "code",
   "source": "data_train['price'].describe().to_frame().T",
   "id": "6f1699ba77022071",
   "outputs": [
    {
     "data": {
      "text/plain": [
       "        count           mean            std       min       25%       50%  \\\n",
       "price  2007.0  964070.006976  946123.655973  159000.0  600000.0  800000.0   \n",
       "\n",
       "             75%         max  \n",
       "price  1109000.0  25000000.0  "
      ],
      "text/html": [
       "<div>\n",
       "<style scoped>\n",
       "    .dataframe tbody tr th:only-of-type {\n",
       "        vertical-align: middle;\n",
       "    }\n",
       "\n",
       "    .dataframe tbody tr th {\n",
       "        vertical-align: top;\n",
       "    }\n",
       "\n",
       "    .dataframe thead th {\n",
       "        text-align: right;\n",
       "    }\n",
       "</style>\n",
       "<table border=\"1\" class=\"dataframe\">\n",
       "  <thead>\n",
       "    <tr style=\"text-align: right;\">\n",
       "      <th></th>\n",
       "      <th>count</th>\n",
       "      <th>mean</th>\n",
       "      <th>std</th>\n",
       "      <th>min</th>\n",
       "      <th>25%</th>\n",
       "      <th>50%</th>\n",
       "      <th>75%</th>\n",
       "      <th>max</th>\n",
       "    </tr>\n",
       "  </thead>\n",
       "  <tbody>\n",
       "    <tr>\n",
       "      <th>price</th>\n",
       "      <td>2007.0</td>\n",
       "      <td>964070.006976</td>\n",
       "      <td>946123.655973</td>\n",
       "      <td>159000.0</td>\n",
       "      <td>600000.0</td>\n",
       "      <td>800000.0</td>\n",
       "      <td>1109000.0</td>\n",
       "      <td>25000000.0</td>\n",
       "    </tr>\n",
       "  </tbody>\n",
       "</table>\n",
       "</div>"
      ]
     },
     "execution_count": 13,
     "metadata": {},
     "output_type": "execute_result"
    }
   ],
   "execution_count": 13
  },
  {
   "metadata": {},
   "cell_type": "markdown",
   "source": [
    "Looking at the summary statistics for price, a few things stand out:\n",
    "\n",
    "- There are 504 houses in our dataset.\n",
    "- The average (mean) price is about &dollar;979,500, but the median (50%) price is lower at &dollar;840,000. This gap suggests that there are some very expensive homes pulling the mean upwards.\n",
    "- Most homes fall between &dollar;620,000 (25th percentile) and &dollar;1,156,000 (75th percentile).\n",
    "- The cheapest home is priced at &dollar;170,000, while the most expensive reaches an eye-popping &dollar;6.25 million.\n",
    "- The standard deviation is very high (~&dollar;609,000), which tells us house prices vary a lot across the dataset.\n",
    "In short, Seattle’s housing market is highly varied, with most homes clustered under $1.2M, but a handful of luxury properties driving up the average."
   ],
   "id": "4230eb0d65b822bb"
  },
  {
   "metadata": {},
   "cell_type": "markdown",
   "source": [
    "#### 4.1.2 Check for Outliers\n",
    "\n",
    "Outliers are unusually high or low values that don’t fit the general trend. For house prices, these might be ultra-luxury homes worth millions, which could distort the scale of our model. Spotting and handling them is important because linear regression is sensitive to extreme values."
   ],
   "id": "c098760fa3edb19b"
  },
  {
   "metadata": {
    "ExecuteTime": {
     "end_time": "2025-09-23T03:59:01.377220Z",
     "start_time": "2025-09-23T03:59:01.358317Z"
    }
   },
   "cell_type": "code",
   "source": [
    "q1 = data_train['price'].quantile(0.25)\n",
    "q3 = data_train['price'].quantile(0.75)\n",
    "iqr = q3 - q1\n",
    "lower = q1 - 1.5 * iqr\n",
    "upper = q3 + 1.5 * iqr\n",
    "outliers = data_train[(data_train['price'] < lower) | (data_train['price'] > upper)]['price']\n",
    "print(f'Outliers: {len(outliers)}')"
   ],
   "id": "d2281762140ad7b0",
   "outputs": [
    {
     "name": "stdout",
     "output_type": "stream",
     "text": [
      "Outliers: 116\n"
     ]
    }
   ],
   "execution_count": 14
  },
  {
   "metadata": {},
   "cell_type": "markdown",
   "source": [
    "Outliers in the `price` column, are found to be **116 houses** that stand far outside the typical price range. These are mostly ultra-luxury properties worth millions, compared to the majority of homes priced under &dollar;1.2M.\n",
    "\n",
    "Outliers aren’t “bad data”, they’re real houses, but they can heavily influence a linear regression model, pulling the regression line towards them. That’s why it’s important to identify them now. Later, we’ll decide whether to keep them (if they’re relevant for prediction) or remove them (if they distort the model too much)."
   ],
   "id": "ce17dc73fb4e3040"
  },
  {
   "metadata": {},
   "cell_type": "markdown",
   "source": [
    "#### 4.1.3 Check for skewness\n",
    "\n",
    "Skewness tells us whether the distribution of prices leans heavily to the left (a few very cheap homes) or to the right (a few extremely expensive homes). Since linear regression assumes normally distributed errors, a highly skewed target variable could affect model performance."
   ],
   "id": "8acf831c5f4130d8"
  },
  {
   "metadata": {
    "ExecuteTime": {
     "end_time": "2025-09-23T03:59:01.383137Z",
     "start_time": "2025-09-23T03:59:01.378699Z"
    }
   },
   "cell_type": "code",
   "source": [
    "# Check for skewness\n",
    "print(f'Skewness: {data_train['price'].skew():,.2f}')"
   ],
   "id": "1428c0017351f843",
   "outputs": [
    {
     "name": "stdout",
     "output_type": "stream",
     "text": [
      "Skewness: 16.91\n"
     ]
    }
   ],
   "execution_count": 15
  },
  {
   "metadata": {},
   "cell_type": "markdown",
   "source": [
    "Since our skewness is **16.91**, that’s strong positive skewness. This means most Seattle homes are clustered in the lower-to-mid price ranges, but a handful of very expensive luxury houses stretch the distribution to the right.\n",
    "\n",
    "This also explains why the mean price (&dollar;964K) is higher than the median price (&dollar;800K) — those multi-million-dollar homes are pulling the average upward."
   ],
   "id": "54b6867c922fc8f4"
  },
  {
   "metadata": {},
   "cell_type": "markdown",
   "source": [
    "#### 4.1.4 Distribution of the price variable\n",
    "\n",
    "Finally, we’ll visualize house prices using a histogram (or histplot in Seaborn). This gives us a clear picture of how prices are spread out, whether most homes fall into a certain price range or whether the distribution is uneven."
   ],
   "id": "10df7bc4243166d3"
  },
  {
   "metadata": {
    "ExecuteTime": {
     "end_time": "2025-09-23T03:59:01.931087Z",
     "start_time": "2025-09-23T03:59:01.389180Z"
    }
   },
   "cell_type": "code",
   "source": [
    "plt.figure(figsize=(14, 5))\n",
    "\n",
    "# Histogram\n",
    "plt.subplot(1, 2, 1)\n",
    "sns.histplot(data_train['price'], kde=True)\n",
    "plt.title('Distribution of Price')\n",
    "plt.xlabel('Price')\n",
    "plt.ylabel('Count')\n",
    "\n",
    "# Boxplot\n",
    "plt.subplot(1, 2, 2)\n",
    "sns.boxplot(data_train['price'], color='lightgreen')\n",
    "plt.title('Distribution of Price')\n",
    "plt.ylabel('Count')\n",
    "\n",
    "plt.show()"
   ],
   "id": "423b3e328309f4f7",
   "outputs": [
    {
     "data": {
      "text/plain": [
       "<Figure size 1400x500 with 2 Axes>"
      ],
      "image/png": "[encoded data removed]"
     },
     "metadata": {},
     "output_type": "display_data"
    }
   ],
   "execution_count": 16
  },
  {
   "metadata": {},
   "cell_type": "markdown",
   "source": [
    "### 4.2 Bivariate Analysis of Numerical Values vs. Target (price)\n",
    "\n",
    "Once we understand the target, the next step is to explore how other numerical variables (like beds, baths, size, lot_size) relate to price."
   ],
   "id": "954a38c70f5dd3f2"
  },
  {
   "metadata": {},
   "cell_type": "markdown",
   "source": [
    "#### 4.2.1 Correlation Heatmap\n",
    "\n",
    "A correlation heatmap gives us a bird’s-eye view of relationships between variables. For instance, we might find that:\n",
    "- size has a strong positive correlation with price (bigger homes → more expensive).\n",
    "- beds and size are also strongly correlated (bigger houses usually mean more bedrooms).\n",
    "\n",
    "This helps us identify which variables are likely to be the strongest predictors, and also warns us about multicollinearity (when two features are so closely related that they could confuse the model)."
   ],
   "id": "1949c044f9652e05"
  },
  {
   "metadata": {
    "ExecuteTime": {
     "end_time": "2025-09-23T03:59:02.117176Z",
     "start_time": "2025-09-23T03:59:01.933262Z"
    }
   },
   "cell_type": "code",
   "source": [
    "# Drop zip_code from the numerical columns as that is a categorical variable not continuous.\n",
    "numerical_cols = data_train.select_dtypes(include='number').columns.drop(['zip_code'])\n",
    "\n",
    "# Plot correlation heatmap\n",
    "corr_mat = data_train[numerical_cols].corr()\n",
    "plt.figure(figsize=(10, 5))\n",
    "sns.heatmap(corr_mat, annot=True, cmap='coolwarm', fmt='.2f', linewidths=0.5)\n",
    "plt.yticks(rotation=0)\n",
    "plt.show()"
   ],
   "id": "dbb299c35bc85cd8",
   "outputs": [
    {
     "data": {
      "text/plain": [
       "<Figure size 1000x500 with 2 Axes>"
      ],
      "image/png": "[encoded data removed]"
     },
     "metadata": {},
     "output_type": "display_data"
    }
   ],
   "execution_count": 17
  },
  {
   "metadata": {},
   "cell_type": "markdown",
   "source": [
    "Key insights include:\n",
    "\n",
    "- `size_sqft` had the strongest linear relationship with price.\n",
    "- `beds` and `baths` were step-wise (less ideal for simple linear regression).\n",
    "- `lot_size_sqft` was noisy, bigger lots didn’t always mean higher prices."
   ],
   "id": "b5c7836ce9f9a4b2"
  },
  {
   "metadata": {},
   "cell_type": "markdown",
   "source": [
    "#### 4.2.2 Scatter plot\n",
    "Scatter plots are one of the most powerful ways to see relationships between a single feature and the target. For example:\n",
    "\n",
    "- `size` vs. `price`: Do bigger houses generally cost more?\n",
    "- `beds` vs. `price`: Does adding bedrooms always increase price, or is there a limit?\n",
    "\n",
    "By plotting these, we can spot patterns (linear or non-linear) and also detect if some variables don’t really influence price much at all."
   ],
   "id": "359f2f10b5fb2c36"
  },
  {
   "metadata": {
    "ExecuteTime": {
     "end_time": "2025-09-23T03:59:03.305200Z",
     "start_time": "2025-09-23T03:59:02.118188Z"
    }
   },
   "cell_type": "code",
   "source": [
    "# Drop price so that we can compare against it.\n",
    "numerical_cols = numerical_cols.drop(['price'])\n",
    "\n",
    "n_cols = 2\n",
    "n_rows = math.ceil(len(numerical_cols) / n_cols)\n",
    "plt.figure(figsize=(6 * n_cols, 4 * n_rows))\n",
    "for i, col in enumerate(numerical_cols, 1):\n",
    "    plt.subplot(n_rows, n_cols, i)\n",
    "    sns.scatterplot(data=data_train, x=col, y='price')\n",
    "    plt.title(f'{col} vs Price')\n",
    "    sns.regplot(\n",
    "        x=col,\n",
    "        y=\"price\",\n",
    "        data=data_train,\n",
    "        scatter=False,\n",
    "        color=\"red\",\n",
    "    )\n",
    "    plt.grid(True)\n",
    "\n",
    "plt.subplots_adjust(hspace=0.5, wspace=0.2)\n",
    "plt.show()"
   ],
   "id": "d7f7bd636ea57ca0",
   "outputs": [
    {
     "data": {
      "text/plain": [
       "<Figure size 1200x800 with 4 Axes>"
      ],
      "image/png": "[encoded data removed]"
     },
     "metadata": {},
     "output_type": "display_data"
    }
   ],
   "execution_count": 18
  },
  {
   "metadata": {},
   "cell_type": "markdown",
   "source": "**Decision:** We will drop `size_sqft` to train our model for this example.",
   "id": "b09acfe1ec21c75d"
  },
  {
   "metadata": {},
   "cell_type": "markdown",
   "source": [
    "## Step 2: Implementing Linear Regression from Scratch\n",
    "\n",
    "### 2.1 Feature Scaling (Standardization)\n",
    "\n",
    "Before training our linear regression model, it's important to scale our input features. This is especially critical when using **gradient descent**, as it ensures faster and more stable convergence.\n",
    "\n",
    "We'll use **Z-score standardization**, which transforms our feature `X` into a distribution with:\n",
    "- Mean = 0\n",
    "- Standard deviation = 1\n",
    "\n",
    "The formula is:\n",
    "\n",
    "$$\n",
    "X_{\\text{scaled}} = \\frac{X - \\mu}{\\sigma}\n",
    "$$\n",
    "\n",
    "\n",
    "Where:\n",
    "- $\\mu$ is the mean of the feature\n",
    "- $\\sigma$ is the standard deviation of the feature\n",
    "\n",
    "This ensures the feature values are on the same scale, making gradient descent more effective."
   ],
   "id": "3d6a4219c2eded7"
  },
  {
   "metadata": {
    "ExecuteTime": {
     "end_time": "2025-09-23T03:59:03.313194Z",
     "start_time": "2025-09-23T03:59:03.307787Z"
    }
   },
   "cell_type": "code",
   "source": [
    "def preprocess_features_targets(X_train, y_train, X_test, y_test):\n",
    "    \"\"\"\n",
    "    Standardizes features and log-transforms the target for both train and test sets.\n",
    "    \n",
    "    Parameters\n",
    "    ----------\n",
    "    X_train : np.ndarray\n",
    "        Training feature array (1D or 2D).\n",
    "    y_train : np.ndarray\n",
    "        Training target array (1D).\n",
    "    X_test : np.ndarray\n",
    "        Test feature array (1D or 2D).\n",
    "    y_test : np.ndarray\n",
    "        Test target array (1D).\n",
    "    \n",
    "    Returns\n",
    "    -------\n",
    "    X_train_scaled : np.ndarray\n",
    "        Scaled training features.\n",
    "    y_train_log : np.ndarray\n",
    "        Log-transformed training target.\n",
    "    X_test_scaled : np.ndarray\n",
    "        Scaled test features (using train mean & std).\n",
    "    y_test_log : np.ndarray\n",
    "        Log-transformed test target.\n",
    "    x_mean : float\n",
    "        Mean of training features (for inverse transform).\n",
    "    x_std : float\n",
    "        Standard deviation of training features (for inverse transform).\n",
    "    \"\"\"\n",
    "\n",
    "    # Compute scaling parameters from training set only\n",
    "    x_mean = X_train.mean()\n",
    "    x_std = X_train.std()\n",
    "\n",
    "    # Scale features\n",
    "    X_train_scaled = (X_train - x_mean) / x_std\n",
    "    X_test_scaled = (X_test - x_mean) / x_std\n",
    "\n",
    "    # Log transform target\n",
    "    y_train_log = np.log(y_train)\n",
    "    y_test_log = np.log(y_test)\n",
    "\n",
    "    return X_train_scaled, y_train_log, X_test_scaled, y_test_log, x_mean, x_std"
   ],
   "id": "3922bcc552507f0a",
   "outputs": [],
   "execution_count": 19
  },
  {
   "metadata": {
    "ExecuteTime": {
     "end_time": "2025-09-23T03:59:03.325117Z",
     "start_time": "2025-09-23T03:59:03.315214Z"
    }
   },
   "cell_type": "code",
   "source": [
    "# Extract the feature and target\n",
    "X_train = data_train['size_sqft']\n",
    "y_train = data_train['price']\n",
    "\n",
    "X_test = data_test['size_sqft']\n",
    "y_test = data_test['price']\n",
    "\n",
    "X_train_scaled, y_train_log, X_test_scaled, y_test_log, x_mean, x_std = preprocess_features_targets(\n",
    "    X_train, y_train, X_test, y_test\n",
    ")\n",
    "\n",
    "# Preview results\n",
    "print(f\"Mean: {x_mean:.2f}\")\n",
    "print(f\"Standard Deviation: {x_std:.2f}\")\n",
    "print(f\"First 5 scaled values of the train set:\")\n",
    "X_train_scaled[:5]"
   ],
   "id": "430811aa5d134539",
   "outputs": [
    {
     "name": "stdout",
     "output_type": "stream",
     "text": [
      "Mean: 1738.77\n",
      "Standard Deviation: 920.33\n",
      "First 5 scaled values of the train set:\n"
     ]
    },
    {
     "data": {
      "text/plain": [
       "0    0.924913\n",
       "1    0.544616\n",
       "2    0.327304\n",
       "3    2.239652\n",
       "4   -0.757084\n",
       "Name: size_sqft, dtype: float64"
      ]
     },
     "execution_count": 20,
     "metadata": {},
     "output_type": "execute_result"
    }
   ],
   "execution_count": 20
  },
  {
   "metadata": {},
   "cell_type": "markdown",
   "source": [
    "### 2.2 Cost Function – Mean Squared Error (MSE)\n",
    "\n",
    "To train our linear regression model, we need a way to measure **how well our model's predictions match the actual values**. This is the role of the **cost function**.\n",
    "\n",
    "The most commonly used cost function for regression is the **Mean Squared Error (MSE)**:\n",
    "\n",
    "$$\n",
    "J(w, b) = \\frac{1}{2m} \\sum_{i=1}^{m} (\\hat{y}^{(i)} - y^{(i)})^2\n",
    "$$\n",
    "\n",
    "Where:\n",
    "- $ m $ is the number of training examples\n",
    "- $ \\hat{y}^{(i)} = w \\cdot x^{(i)} + b $ is the predicted value for the i-th example\n",
    "- $ y^{(i)} $ is the actual target value\n",
    "- $ w $ is the weight (slope), and $ b $ is the bias (intercept)\n",
    "\n",
    ">  We include the factor $ \\frac{1}{2} $ to simplify the derivative during gradient descent.\n",
    "\n",
    "This function calculates the **average squared difference** between predicted and actual values — lower is better.\n"
   ],
   "id": "885320d6ef5f4c0c"
  },
  {
   "metadata": {
    "ExecuteTime": {
     "end_time": "2025-09-23T03:59:03.336168Z",
     "start_time": "2025-09-23T03:59:03.326173Z"
    }
   },
   "cell_type": "code",
   "source": [
    "def predict(x, w, b):\n",
    "    \"\"\"\n",
    "    Predict using learned linear regression parameters.\n",
    "    \n",
    "    Parameters:\n",
    "    x (array): Input features\n",
    "    w (float): Trained weight\n",
    "    b (float): Trained bias\n",
    "\n",
    "    Returns:\n",
    "    array: Predicted values\n",
    "    \"\"\"\n",
    "    return np.dot(x, w) + b"
   ],
   "id": "42a1fea20b81a558",
   "outputs": [],
   "execution_count": 21
  },
  {
   "metadata": {
    "ExecuteTime": {
     "end_time": "2025-09-23T03:59:03.342777Z",
     "start_time": "2025-09-23T03:59:03.337678Z"
    }
   },
   "cell_type": "code",
   "source": [
    "# Define the cost function\n",
    "def compute_cost(x_train, y_train, w, b):\n",
    "    \"\"\"\n",
    "    Compute the Mean Squared Error cost function.\n",
    "    \n",
    "    Parameters:\n",
    "    x_train (array): Input features (scaled)\n",
    "    y_train (array): Actual target values\n",
    "    w (float): Weight (slope)\n",
    "    b (float): Bias (intercept)\n",
    "\n",
    "    Returns:\n",
    "    float: Cost J(w, b)\n",
    "    \"\"\"\n",
    "\n",
    "    m = len(y_train)\n",
    "    y_hat = predict(x_train, w, b)\n",
    "    cost = (1 / (2 * m)) * np.sum((y_hat - y_train) ** 2)\n",
    "    return cost"
   ],
   "id": "c525b41394178d6f",
   "outputs": [],
   "execution_count": 22
  },
  {
   "metadata": {},
   "cell_type": "markdown",
   "source": [
    "### 2.3 Gradient Descent\n",
    "\n",
    "Now that we can measure the model's error using the cost function (MSE), we need a way to **minimize** that error. This is where **Gradient Descent** comes in.\n",
    "\n",
    "Gradient Descent is an optimization algorithm that iteratively adjusts the model parameters (weight `w` and bias `b`) to **move in the direction that reduces the cost**.\n",
    "\n",
    "<br>\n",
    "\n",
    "#### Update Rules:\n",
    "\n",
    "$$\n",
    "w := w - \\alpha \\cdot \\frac{\\partial J}{\\partial w}\n",
    "$$\n",
    "$$\n",
    "b := b - \\alpha \\cdot \\frac{\\partial J}{\\partial b}\n",
    "$$\n",
    "\n",
    "Where:\n",
    "- $ \\alpha $ is the learning rate, (how big each step is)\n",
    "- $ \\frac{\\partial J}{\\partial w} $, $ \\frac{\\partial J}{\\partial b} $ are the **gradients** of the cost function with respect to `w` and `b`\n",
    "\n",
    "#### Intuition:\n",
    "- The gradients tell us **how steep the slope is** (how fast cost is increasing)\n",
    "- We move in the **opposite direction of the slope** to minimize cost\n"
   ],
   "id": "4f6ec1132146c8b"
  },
  {
   "metadata": {
    "ExecuteTime": {
     "end_time": "2025-09-23T03:59:03.353229Z",
     "start_time": "2025-09-23T03:59:03.344789Z"
    }
   },
   "cell_type": "code",
   "source": [
    "# Define the gradient descent function\n",
    "def gradient_descent(x_train, y_train, w, b, learning_rate, iterations):\n",
    "    \"\"\"\n",
    "    Performs batch gradient descent to learn w and b.\n",
    "\n",
    "    Parameters:\n",
    "    x_train (array): Input features (scaled)\n",
    "    y_train (array): Target values\n",
    "    w (float): Initial weight\n",
    "    b (float): Initial bias\n",
    "    learning_rate (float): Step size for each update\n",
    "    iterations (int): Number of training iterations\n",
    "\n",
    "    Returns:\n",
    "    w, b (float): Learned parameters\n",
    "    cost_history (list): Cost at each iteration\n",
    "    \"\"\"\n",
    "    m = len(y_train)\n",
    "    cost_history = []\n",
    "\n",
    "    for i in range(iterations):\n",
    "        y_hat = predict(x_train, w, b)\n",
    "        error = y_hat - y_train\n",
    "\n",
    "        # Compute gradients\n",
    "        dw = (1 / m) * np.dot(error, x_train)\n",
    "        db = (1 / m) * np.sum(error)\n",
    "\n",
    "        # Update parameters\n",
    "        w -= learning_rate * dw\n",
    "        b -= learning_rate * db\n",
    "\n",
    "        # Track cost\n",
    "        cost = compute_cost(x_train, y_train, w, b)\n",
    "\n",
    "        if i % 100 == 0 or i == iterations - 1:\n",
    "            print(f\"Iteration {i}: Cost = {cost:.2f}, w = {w:.4f}, b = {b:.4f}\")\n",
    "\n",
    "        if i != 0 and abs(cost - cost_history[-1]) < 1e-06:\n",
    "            print(f\"Converged at iteration {i}\")\n",
    "            break\n",
    "\n",
    "        cost_history.append(cost)\n",
    "    return w, b, cost_history"
   ],
   "id": "b77b316199589403",
   "outputs": [],
   "execution_count": 23
  },
  {
   "metadata": {},
   "cell_type": "markdown",
   "source": [
    "### 2.4 Train the Model Using Gradient Descent\n",
    "We now need to train the model using the gradient descent but first we need to set the hyperparameters"
   ],
   "id": "70d1741a072670ec"
  },
  {
   "metadata": {
    "ExecuteTime": {
     "end_time": "2025-09-23T03:59:05.624254Z",
     "start_time": "2025-09-23T03:59:03.355311Z"
    }
   },
   "cell_type": "code",
   "source": [
    "# Set hyperparameters\n",
    "iterations = 10000\n",
    "learning_rate = 0.001\n",
    "initial_weight = 0\n",
    "initial_bias = 0\n",
    "\n",
    "# Train the model\n",
    "final_weight, final_bias, cost_history = gradient_descent(\n",
    "    X_train_scaled, y_train_log, initial_weight, initial_bias, learning_rate, iterations\n",
    ")\n",
    "print(f\"Final Parameters: w = {final_weight:.4f}, b = {final_bias:.4f}\")"
   ],
   "id": "2b82eab0c921b0e5",
   "outputs": [
    {
     "name": "stdout",
     "output_type": "stream",
     "text": [
      "Iteration 0: Cost = 92.73, w = 0.0004, b = 0.0136\n",
      "Iteration 100: Cost = 75.92, w = 0.0371, b = 1.3093\n",
      "Iteration 200: Cost = 62.17, w = 0.0702, b = 2.4816\n",
      "Iteration 300: Cost = 50.90, w = 0.1003, b = 3.5423\n",
      "Iteration 400: Cost = 41.68, w = 0.1274, b = 4.5020\n",
      "Iteration 500: Cost = 34.13, w = 0.1520, b = 5.3703\n",
      "Iteration 600: Cost = 27.95, w = 0.1743, b = 6.1559\n",
      "Iteration 700: Cost = 22.90, w = 0.1944, b = 6.8668\n",
      "Iteration 800: Cost = 18.75, w = 0.2126, b = 7.5100\n",
      "Iteration 900: Cost = 15.36, w = 0.2291, b = 8.0919\n",
      "Iteration 1000: Cost = 12.59, w = 0.2440, b = 8.6185\n",
      "Iteration 1100: Cost = 10.32, w = 0.2575, b = 9.0949\n",
      "Iteration 1200: Cost = 8.46, w = 0.2697, b = 9.5259\n",
      "Iteration 1300: Cost = 6.93, w = 0.2807, b = 9.9159\n",
      "Iteration 1400: Cost = 5.69, w = 0.2907, b = 10.2688\n",
      "Iteration 1500: Cost = 4.67, w = 0.2998, b = 10.5881\n",
      "Iteration 1600: Cost = 3.83, w = 0.3079, b = 10.8770\n",
      "Iteration 1700: Cost = 3.15, w = 0.3153, b = 11.1383\n",
      "Iteration 1800: Cost = 2.59, w = 0.3220, b = 11.3748\n",
      "Iteration 1900: Cost = 2.13, w = 0.3281, b = 11.5888\n",
      "Iteration 2000: Cost = 1.75, w = 0.3336, b = 11.7824\n",
      "Iteration 2100: Cost = 1.45, w = 0.3385, b = 11.9576\n",
      "Iteration 2200: Cost = 1.19, w = 0.3430, b = 12.1161\n",
      "Iteration 2300: Cost = 0.99, w = 0.3471, b = 12.2595\n",
      "Iteration 2400: Cost = 0.82, w = 0.3508, b = 12.3892\n",
      "Iteration 2500: Cost = 0.68, w = 0.3541, b = 12.5066\n",
      "Iteration 2600: Cost = 0.57, w = 0.3571, b = 12.6129\n",
      "Iteration 2700: Cost = 0.48, w = 0.3598, b = 12.7090\n",
      "Iteration 2800: Cost = 0.40, w = 0.3623, b = 12.7959\n",
      "Iteration 2900: Cost = 0.34, w = 0.3645, b = 12.8746\n",
      "Iteration 3000: Cost = 0.29, w = 0.3666, b = 12.9458\n",
      "Iteration 3100: Cost = 0.25, w = 0.3684, b = 13.0102\n",
      "Iteration 3200: Cost = 0.21, w = 0.3700, b = 13.0685\n",
      "Iteration 3300: Cost = 0.18, w = 0.3715, b = 13.1212\n",
      "Iteration 3400: Cost = 0.16, w = 0.3729, b = 13.1689\n",
      "Iteration 3500: Cost = 0.14, w = 0.3741, b = 13.2121\n",
      "Iteration 3600: Cost = 0.13, w = 0.3752, b = 13.2511\n",
      "Iteration 3700: Cost = 0.12, w = 0.3762, b = 13.2865\n",
      "Iteration 3800: Cost = 0.10, w = 0.3771, b = 13.3185\n",
      "Iteration 3900: Cost = 0.10, w = 0.3779, b = 13.3474\n",
      "Iteration 4000: Cost = 0.09, w = 0.3787, b = 13.3736\n",
      "Iteration 4100: Cost = 0.08, w = 0.3793, b = 13.3972\n",
      "Iteration 4200: Cost = 0.08, w = 0.3800, b = 13.4187\n",
      "Iteration 4300: Cost = 0.08, w = 0.3805, b = 13.4381\n",
      "Iteration 4400: Cost = 0.07, w = 0.3810, b = 13.4556\n",
      "Iteration 4500: Cost = 0.07, w = 0.3815, b = 13.4715\n",
      "Iteration 4600: Cost = 0.07, w = 0.3819, b = 13.4858\n",
      "Iteration 4700: Cost = 0.07, w = 0.3822, b = 13.4988\n",
      "Iteration 4800: Cost = 0.06, w = 0.3826, b = 13.5106\n",
      "Iteration 4900: Cost = 0.06, w = 0.3829, b = 13.5212\n",
      "Iteration 5000: Cost = 0.06, w = 0.3831, b = 13.5308\n",
      "Iteration 5100: Cost = 0.06, w = 0.3834, b = 13.5396\n",
      "Iteration 5200: Cost = 0.06, w = 0.3836, b = 13.5474\n",
      "Iteration 5300: Cost = 0.06, w = 0.3838, b = 13.5546\n",
      "Iteration 5400: Cost = 0.06, w = 0.3840, b = 13.5610\n",
      "Iteration 5500: Cost = 0.06, w = 0.3842, b = 13.5668\n",
      "Iteration 5600: Cost = 0.06, w = 0.3843, b = 13.5721\n",
      "Iteration 5700: Cost = 0.06, w = 0.3844, b = 13.5769\n",
      "Iteration 5800: Cost = 0.06, w = 0.3846, b = 13.5812\n",
      "Iteration 5900: Cost = 0.06, w = 0.3847, b = 13.5851\n",
      "Iteration 6000: Cost = 0.06, w = 0.3848, b = 13.5887\n",
      "Converged at iteration 6063\n",
      "Final Parameters: w = 0.3848, b = 13.5907\n"
     ]
    }
   ],
   "execution_count": 24
  },
  {
   "metadata": {},
   "cell_type": "markdown",
   "source": [
    "### 2.5 Predictions and Regression Line\n",
    "\n",
    "With the model trained, we can now generate predictions for house prices using the learned parameters.\n",
    "\n",
    "Since our model was trained on **standardized data**, we will:\n",
    "1. Use the learned `w` and `b` to make predictions on `X_scaled`\n",
    "2. Convert the predictions back to the **original price scale** using the inverse Z-score formula:\n",
    "   $$\n",
    "   \\hat{y}_{\\text{original}} = \\hat{y}_{\\text{scaled}} \\times \\sigma_y + \\mu_y\n",
    "   $$\n",
    "3. Plot the regression line over the original data to visualize how well the model fits.\n",
    "\n",
    "This will give us a clear view of how accurately our NumPy-based linear regression model captures the relationship between house size and price.\n"
   ],
   "id": "a7a32b35e26abcb4"
  },
  {
   "metadata": {
    "ExecuteTime": {
     "end_time": "2025-09-23T03:59:05.630890Z",
     "start_time": "2025-09-23T03:59:05.626482Z"
    }
   },
   "cell_type": "code",
   "source": [
    "# Predict scaled prices (log-space)\n",
    "y_hat_log = final_weight * X_test_scaled + final_bias\n",
    "y_hat = np.exp(y_hat_log)  # Convert back to original price scale"
   ],
   "id": "e2a4d574159f90c7",
   "outputs": [],
   "execution_count": 25
  },
  {
   "metadata": {},
   "cell_type": "markdown",
   "source": [
    "### 2.6 Model Evaluation: RMSE and R² Score\n",
    "\n",
    "After training and visualizing the model's fit, we now want to **quantify its performance**.\n",
    "\n",
    "We'll use two standard regression metrics\n",
    "\n",
    "<br>\n",
    "\n",
    "#### 1. **RMSE (Root Mean Squared Error)**  \n",
    "Measures the average prediction error in the same units as the target variable (price in dollars):\n",
    "\n",
    "$$\n",
    "\\text{RMSE} = \\sqrt{ \\frac{1}{m} \\sum_{i=1}^{m} (\\hat{y}_i - y_i)^2 }\n",
    "$$\n",
    "\n",
    "Lower RMSE = better fit.\n",
    "\n",
    "<br>\n",
    "\n",
    "#### 2. **R² Score (Coefficient of Determination)**  \n",
    "Represents the proportion of variance in the target explained by the model:\n",
    "\n",
    "$$\n",
    "R^2 = 1 - \\frac{ \\sum (\\hat{y} - y)^2 }{ \\sum (y - \\bar{y})^2 }\n",
    "$$\n",
    "\n",
    "- $ R^2 = 1.0 $: perfect prediction  \n",
    "- $ R^2 = 0.0 $: model predicts the mean  \n",
    "- $ R^2 < 0 $: worse than guessing the mean\n",
    "\n",
    "Let’s compute both to evaluate how well our NumPy-based linear regression model performs.\n"
   ],
   "id": "72e74d167e79f697"
  },
  {
   "metadata": {
    "ExecuteTime": {
     "end_time": "2025-09-23T03:59:05.639898Z",
     "start_time": "2025-09-23T03:59:05.631938Z"
    }
   },
   "cell_type": "code",
   "source": [
    "# Compute RMSE\n",
    "rmse = np.sqrt(mean_squared_error(y_test, y_hat))\n",
    "\n",
    "# Compute R² score\n",
    "r2 = r2_score(y_test, y_hat)\n",
    "\n",
    "# Display results\n",
    "print(f\"RMSE: ${rmse:,.2f}\")\n",
    "print(f\"R² Score: {r2:.4f}\")"
   ],
   "id": "a33b9161e2313e3",
   "outputs": [
    {
     "name": "stdout",
     "output_type": "stream",
     "text": [
      "RMSE: $441,233.39\n",
      "R² Score: 0.4742\n"
     ]
    }
   ],
   "execution_count": 26
  },
  {
   "metadata": {},
   "cell_type": "markdown",
   "source": [
    "## Final Summary & Reflections\n",
    "\n",
    "In this project, we built a **linear regression model from scratch using NumPy** to predict house prices in Seattle. We worked step by step through the full machine learning pipeline, including:\n",
    "\n",
    "- **Data cleaning & preprocessing** (unit standardization, missing value handling)\n",
    "- **Exploratory data analysis** (scatter plots, correlation checks)\n",
    "- **Feature scaling** using Z-score normalization\n",
    "- **Model implementation**: cost function (MSE), gradient descent\n",
    "- **Model training and prediction** with visualization\n",
    "- **Model evaluation** using RMSE and R² Score\n",
    "\n",
    "<br>\n",
    "\n",
    "### Key Learnings\n",
    "\n",
    "- Implementing algorithms from scratch is the best way to deeply understand how they work\n",
    "- Feature selection significantly impacts model performance\n",
    "- Standardizing data is crucial when using gradient descent\n",
    "- Real-world data is messy — handling units, missing values, and scale differences is essential\n",
    "- Evaluation metrics tell the **real story** about a model’s performance"
   ],
   "id": "4ca4f19416f70dfe"
  },
  {
   "metadata": {
    "ExecuteTime": {
     "end_time": "2025-09-23T03:59:05.645390Z",
     "start_time": "2025-09-23T03:59:05.641441Z"
    }
   },
   "cell_type": "code",
   "source": "",
   "id": "e1c808363c2d181b",
   "outputs": [],
   "execution_count": 26
  }
 ],
 "metadata": {
  "kernelspec": {
   "display_name": "Python 3",
   "language": "python",
   "name": "python3"
  },
  "language_info": {
   "codemirror_mode": {
    "name": "ipython",
    "version": 2
   },
   "file_extension": ".py",
   "mimetype": "text/x-python",
   "name": "python",
   "nbconvert_exporter": "python",
   "pygments_lexer": "ipython2",
   "version": "2.7.6"
  }
 },
 "nbformat": 4,
 "nbformat_minor": 5
}
