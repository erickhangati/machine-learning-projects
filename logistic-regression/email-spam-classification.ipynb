{
 "cells": [
  {
   "metadata": {},
   "cell_type": "markdown",
   "source": [
    "# Spam Email Classification with Logistic Regression (From Scratch Using NumPy)\n",
    "\n",
    "In this project, we build a logistic regression model **from scratch using NumPy** to classify email messages as **spam** (1) or **ham** (0).\n",
    "\n",
    "### Why This Project?\n",
    "Spam detection is a classic **binary classification problem** in machine learning. This dataset from Kaggle's [Spam Email Classification Dataset](https://www.kaggle.com/datasets/purusinghvi/email-spam-classification-dataset) includes real emails from:\n",
    "- **2007 TREC Public Spam Corpus**\n",
    "- **Enron-Spam Dataset**\n",
    "\n",
    "Our goal is to:\n",
    "- Clean and prepare the text data\n",
    "- Extract features using a simple bag-of-words approach\n",
    "- Implement logistic regression manually using NumPy\n",
    "- Evaluate model performance and interpret results\n",
    "\n",
    "> This project demonstrates both **algorithm-level understanding** and **practical feature engineering for text classification**.\n"
   ],
   "id": "fd450d5025c26e59"
  },
  {
   "metadata": {},
   "cell_type": "markdown",
   "source": "## 1. Import Libraries",
   "id": "4fc267f3aa0c7f5c"
  },
  {
   "metadata": {
    "ExecuteTime": {
     "end_time": "2025-07-08T18:02:56.776372Z",
     "start_time": "2025-07-08T18:02:55.081426Z"
    }
   },
   "cell_type": "code",
   "source": [
    "# Core\n",
    "import numpy as np\n",
    "import pandas as pd\n",
    "\n",
    "# Visualization\n",
    "import matplotlib.pyplot as plt\n",
    "\n",
    "# Preprocessing\n",
    "import re\n",
    "from sklearn.model_selection import train_test_split\n",
    "from sklearn.feature_extraction.text import CountVectorizer"
   ],
   "id": "85ad799e3620037f",
   "outputs": [],
   "execution_count": 1
  },
  {
   "metadata": {},
   "cell_type": "markdown",
   "source": "## 2: Load Dataset",
   "id": "bd243d501edeb22e"
  },
  {
   "metadata": {
    "ExecuteTime": {
     "end_time": "2025-07-08T18:02:58.387554Z",
     "start_time": "2025-07-08T18:02:56.776372Z"
    }
   },
   "cell_type": "code",
   "source": [
    "# Import data from csv file in the directory\n",
    "df = pd.read_csv('combined-data.csv')\n",
    "\n",
    "# Subsample 10,000 rows for faster training\n",
    "df = df.sample(n=1000, random_state=42).reset_index(drop=True)\n",
    "\n",
    "# Preview the data\n",
    "df.head()"
   ],
   "id": "2bb7a16973e96e1b",
   "outputs": [
    {
     "data": {
      "text/plain": [
       "   label                                               text\n",
       "0      0  accuweather escapenumber day forecast for beve...\n",
       "1      1  dear in christ the time has come for christian...\n",
       "2      1  hallway cosponsor pry reimbursable coat clumsy...\n",
       "3      1  does size matter' escapenumber of women said t...\n",
       "4      0  along zeng wrote hi all is there levene' test ..."
      ],
      "text/html": [
       "<div>\n",
       "<style scoped>\n",
       "    .dataframe tbody tr th:only-of-type {\n",
       "        vertical-align: middle;\n",
       "    }\n",
       "\n",
       "    .dataframe tbody tr th {\n",
       "        vertical-align: top;\n",
       "    }\n",
       "\n",
       "    .dataframe thead th {\n",
       "        text-align: right;\n",
       "    }\n",
       "</style>\n",
       "<table border=\"1\" class=\"dataframe\">\n",
       "  <thead>\n",
       "    <tr style=\"text-align: right;\">\n",
       "      <th></th>\n",
       "      <th>label</th>\n",
       "      <th>text</th>\n",
       "    </tr>\n",
       "  </thead>\n",
       "  <tbody>\n",
       "    <tr>\n",
       "      <th>0</th>\n",
       "      <td>0</td>\n",
       "      <td>accuweather escapenumber day forecast for beve...</td>\n",
       "    </tr>\n",
       "    <tr>\n",
       "      <th>1</th>\n",
       "      <td>1</td>\n",
       "      <td>dear in christ the time has come for christian...</td>\n",
       "    </tr>\n",
       "    <tr>\n",
       "      <th>2</th>\n",
       "      <td>1</td>\n",
       "      <td>hallway cosponsor pry reimbursable coat clumsy...</td>\n",
       "    </tr>\n",
       "    <tr>\n",
       "      <th>3</th>\n",
       "      <td>1</td>\n",
       "      <td>does size matter' escapenumber of women said t...</td>\n",
       "    </tr>\n",
       "    <tr>\n",
       "      <th>4</th>\n",
       "      <td>0</td>\n",
       "      <td>along zeng wrote hi all is there levene' test ...</td>\n",
       "    </tr>\n",
       "  </tbody>\n",
       "</table>\n",
       "</div>"
      ]
     },
     "execution_count": 2,
     "metadata": {},
     "output_type": "execute_result"
    }
   ],
   "execution_count": 2
  },
  {
   "metadata": {},
   "cell_type": "markdown",
   "source": [
    "## 3. Text Cleaning\n",
    "\n",
    "The raw email messages contain punctuation, symbols, uppercase letters, and extra whitespace — all of which can interfere with feature extraction.\n",
    "\n",
    "We apply a custom cleaning function to:\n",
    "- Lowercase the text\n",
    "- Remove non-alphanumeric characters\n",
    "- Normalize whitespace\n",
    "\n",
    "This creates a `clean_text` column we’ll use for vectorization.\n"
   ],
   "id": "9a3233a0dc2ebee7"
  },
  {
   "metadata": {
    "ExecuteTime": {
     "end_time": "2025-07-08T18:02:58.494873Z",
     "start_time": "2025-07-08T18:02:58.387554Z"
    }
   },
   "cell_type": "code",
   "source": [
    "# Cleaning function\n",
    "def clean_text(text):\n",
    "    \"\"\"\n",
    "    Clean the text to make it ready for machine learning.\n",
    "    :param text: string to be cleaned\n",
    "    :return: string with cleaned text\n",
    "    \"\"\"\n",
    "    text = text.lower()  # Lowercase\n",
    "    text = re.sub(r'[^a-z0-9\\s]', '', text)  # Remove punctuation/symbols\n",
    "    text = re.sub(r'\\s+', ' ', text).strip()  # Remove extra spaces\n",
    "    return text\n",
    "\n",
    "\n",
    "# Apply text cleaning\n",
    "df['clean_text'] = df['text'].apply(clean_text)\n",
    "\n",
    "# Quick preview\n",
    "df.head()"
   ],
   "id": "9f489438d4a8c7c1",
   "outputs": [
    {
     "data": {
      "text/plain": [
       "   label                                               text  \\\n",
       "0      0  accuweather escapenumber day forecast for beve...   \n",
       "1      1  dear in christ the time has come for christian...   \n",
       "2      1  hallway cosponsor pry reimbursable coat clumsy...   \n",
       "3      1  does size matter' escapenumber of women said t...   \n",
       "4      0  along zeng wrote hi all is there levene' test ...   \n",
       "\n",
       "                                          clean_text  \n",
       "0  accuweather escapenumber day forecast for beve...  \n",
       "1  dear in christ the time has come for christian...  \n",
       "2  hallway cosponsor pry reimbursable coat clumsy...  \n",
       "3  does size matter escapenumber of women said th...  \n",
       "4  along zeng wrote hi all is there levene test i...  "
      ],
      "text/html": [
       "<div>\n",
       "<style scoped>\n",
       "    .dataframe tbody tr th:only-of-type {\n",
       "        vertical-align: middle;\n",
       "    }\n",
       "\n",
       "    .dataframe tbody tr th {\n",
       "        vertical-align: top;\n",
       "    }\n",
       "\n",
       "    .dataframe thead th {\n",
       "        text-align: right;\n",
       "    }\n",
       "</style>\n",
       "<table border=\"1\" class=\"dataframe\">\n",
       "  <thead>\n",
       "    <tr style=\"text-align: right;\">\n",
       "      <th></th>\n",
       "      <th>label</th>\n",
       "      <th>text</th>\n",
       "      <th>clean_text</th>\n",
       "    </tr>\n",
       "  </thead>\n",
       "  <tbody>\n",
       "    <tr>\n",
       "      <th>0</th>\n",
       "      <td>0</td>\n",
       "      <td>accuweather escapenumber day forecast for beve...</td>\n",
       "      <td>accuweather escapenumber day forecast for beve...</td>\n",
       "    </tr>\n",
       "    <tr>\n",
       "      <th>1</th>\n",
       "      <td>1</td>\n",
       "      <td>dear in christ the time has come for christian...</td>\n",
       "      <td>dear in christ the time has come for christian...</td>\n",
       "    </tr>\n",
       "    <tr>\n",
       "      <th>2</th>\n",
       "      <td>1</td>\n",
       "      <td>hallway cosponsor pry reimbursable coat clumsy...</td>\n",
       "      <td>hallway cosponsor pry reimbursable coat clumsy...</td>\n",
       "    </tr>\n",
       "    <tr>\n",
       "      <th>3</th>\n",
       "      <td>1</td>\n",
       "      <td>does size matter' escapenumber of women said t...</td>\n",
       "      <td>does size matter escapenumber of women said th...</td>\n",
       "    </tr>\n",
       "    <tr>\n",
       "      <th>4</th>\n",
       "      <td>0</td>\n",
       "      <td>along zeng wrote hi all is there levene' test ...</td>\n",
       "      <td>along zeng wrote hi all is there levene test i...</td>\n",
       "    </tr>\n",
       "  </tbody>\n",
       "</table>\n",
       "</div>"
      ]
     },
     "execution_count": 3,
     "metadata": {},
     "output_type": "execute_result"
    }
   ],
   "execution_count": 3
  },
  {
   "metadata": {},
   "cell_type": "markdown",
   "source": [
    "## 4. Converting Text to Features: Bag-of-Words\n",
    "\n",
    "To train our model, we need to turn text into numbers. We use the **Bag-of-Words (BoW)** model, which:\n",
    "\n",
    "- Builds a vocabulary of the most frequent words\n",
    "- Represents each email as a vector of word counts\n",
    "- Ignores word order but captures frequency\n",
    "\n",
    "We use `CountVectorizer` from `sklearn`, limited to 3,000 features for efficiency.\n",
    "\n",
    "This gives us a feature matrix of shape `(num_emails, 3000)`, ready for logistic regression.\n"
   ],
   "id": "6bc146b0ffa7fa7b"
  },
  {
   "metadata": {
    "ExecuteTime": {
     "end_time": "2025-07-08T18:02:58.695576Z",
     "start_time": "2025-07-08T18:02:58.494873Z"
    }
   },
   "cell_type": "code",
   "source": [
    "# Initialize CountVectorizer\n",
    "vectorizer = CountVectorizer(max_features=3000)\n",
    "\n",
    "# Fit and transform the cleaned text into features\n",
    "X = vectorizer.fit_transform(df['clean_text']).toarray()\n",
    "\n",
    "# Labels\n",
    "y = df['label'].values\n",
    "\n",
    "# Preview\n",
    "print(\"Vocabulary size:\", len(vectorizer.vocabulary_))\n",
    "print(\"First row vector (email 0):\\n\", X[0])"
   ],
   "id": "9ecd27c4a95af318",
   "outputs": [
    {
     "name": "stdout",
     "output_type": "stream",
     "text": [
      "Vocabulary size: 3000\n",
      "First row vector (email 0):\n",
      " [0 0 0 ... 0 0 0]\n"
     ]
    }
   ],
   "execution_count": 4
  },
  {
   "metadata": {},
   "cell_type": "markdown",
   "source": [
    "### 6. Train-Test Split\n",
    "\n",
    "To evaluate our model fairly, we split the data into:\n",
    "\n",
    "- **Training set (80%)**: Used to train the model\n",
    "- **Test set (20%)**: Used to evaluate performance on unseen data\n",
    "\n",
    "We use `train_test_split` from scikit-learn to perform the split.\n"
   ],
   "id": "c25dc822f64df0f2"
  },
  {
   "metadata": {
    "ExecuteTime": {
     "end_time": "2025-07-08T18:02:58.707689Z",
     "start_time": "2025-07-08T18:02:58.697581Z"
    }
   },
   "cell_type": "code",
   "source": [
    "# Split the data for train set and test set\n",
    "X_train, X_test, y_train, y_test = train_test_split(X, y, test_size=0.2, random_state=42)\n",
    "\n",
    "# Preview the shape of the datasets\n",
    "print(f\"Train set size: {X_train.shape[0]}\")\n",
    "print(f\"Test set size: {X_test.shape[0]}\")"
   ],
   "id": "b4b6dfa4133d775e",
   "outputs": [
    {
     "name": "stdout",
     "output_type": "stream",
     "text": [
      "Train set size: 800\n",
      "Test set size: 200\n"
     ]
    }
   ],
   "execution_count": 5
  },
  {
   "metadata": {},
   "cell_type": "markdown",
   "source": [
    "## 5. Training Logistic Regression (From Scratch)\n",
    "\n",
    "We now train a logistic regression model using only NumPy. The model learns to classify emails as spam or ham by minimizing the binary cross-entropy loss using gradient descent.\n",
    "\n",
    "We initialize weights to zero, compute gradients each step, and update using the learning rate.\n",
    "\n",
    "Loss is tracked to monitor convergence.\n"
   ],
   "id": "a5c6e693dc5ceee6"
  },
  {
   "metadata": {},
   "cell_type": "markdown",
   "source": [
    "### 5.1 Sigmoid Function\n",
    "\n",
    "The sigmoid function maps any real number into a range between 0 and 1. It’s used in logistic regression to convert the linear combination of inputs into a probability.\n",
    "\n",
    "The formula is:\n",
    "\n",
    "$$\n",
    "\\sigma(z) = \\frac{1}{1 + e^{-z}}\n",
    "$$\n",
    "\n",
    "We clip the input `z` to prevent numerical overflow when computing large exponential.\n",
    "\n",
    "This allows us to interpret the model output as the probability that a given email is spam (1) or ham (0).\n"
   ],
   "id": "de597eb03e220056"
  },
  {
   "metadata": {
    "ExecuteTime": {
     "end_time": "2025-07-08T18:02:58.711687Z",
     "start_time": "2025-07-08T18:02:58.708695Z"
    }
   },
   "cell_type": "code",
   "source": [
    "# Define sigmoid function\n",
    "def sigmoid(z):\n",
    "    \"\"\"\n",
    "    Maps any real number into a range between 0 and 1.\n",
    "    :param z: float value to be mapped\n",
    "    :return: float value between 0 and 1\n",
    "    \"\"\"\n",
    "    z = np.clip(z, -500, 500)\n",
    "    return 1 / (1 + np.exp(-z))"
   ],
   "id": "d2b8df427cdfcddb",
   "outputs": [],
   "execution_count": 6
  },
  {
   "metadata": {},
   "cell_type": "markdown",
   "source": [
    "### 5.2 Cost Function (Binary Cross-Entropy)\n",
    "\n",
    "We use **binary cross-entropy loss** to measure how well our logistic regression model is predicting the true labels.\n",
    "\n",
    "The loss function is:\n",
    "\n",
    "$$\n",
    "J(w, b) = - \\frac{1}{m} \\sum_{i=1}^{m} \\left[ y^{(i)} \\log(\\hat{y}^{(i)}) + (1 - y^{(i)}) \\log(1 - \\hat{y}^{(i)}) \\right]\n",
    "$$\n",
    "\n",
    "Where:\n",
    "- $ \\hat{y}^{(i)} $ is the model's predicted probability for sample $ i $\n",
    "- $ y^{(i)} $ is the true label (0 or 1)\n",
    "\n",
    "We clip \\( \\hat{y} \\) values to avoid taking the log of 0, which would cause numerical errors.\n"
   ],
   "id": "7712c651bf2bf30"
  },
  {
   "metadata": {
    "ExecuteTime": {
     "end_time": "2025-07-08T18:02:58.716517Z",
     "start_time": "2025-07-08T18:02:58.711687Z"
    }
   },
   "cell_type": "code",
   "source": [
    "# Define the cost function\n",
    "def compute_cost(X, y, w, b, lambda_):\n",
    "    m = X.shape[0]\n",
    "    z = np.dot(X, w) + b\n",
    "    y_hat = sigmoid(z)\n",
    "\n",
    "    # Add small value to avoid log(0)\n",
    "    epsilon = 1e-15\n",
    "    y_hat = np.clip(y_hat, epsilon, 1 - epsilon)\n",
    "\n",
    "    cost = -(1 / m) * np.sum(y * np.log(y_hat) + (1 - y) * np.log(1 - y_hat))\n",
    "    regularization = (lambda_ / (2 * m)) * np.sum(w ** 2)\n",
    "    return cost + regularization"
   ],
   "id": "6875914efbd3dbe4",
   "outputs": [],
   "execution_count": 7
  },
  {
   "metadata": {},
   "cell_type": "markdown",
   "source": [
    "### 5.3 Training with Gradient Descent\n",
    "\n",
    "We use **batch gradient descent** to minimize the binary cross-entropy cost and learn the model parameters:\n",
    "\n",
    "- `w`: weights for each feature (i.e., word)\n",
    "- `b`: the bias term\n",
    "\n",
    "Each iteration involves:\n",
    "1. Computing predicted probabilities using the sigmoid function\n",
    "2. Calculating the gradients of the loss with respect to `w` and `b`\n",
    "3. Updating the weights and bias using the learning rate\n",
    "\n",
    "We track the cost after every iteration to monitor convergence. Training stops early if the change in cost is very small.\n"
   ],
   "id": "6627fa36942305a3"
  },
  {
   "metadata": {
    "ExecuteTime": {
     "end_time": "2025-07-08T18:02:58.723645Z",
     "start_time": "2025-07-08T18:02:58.716517Z"
    }
   },
   "cell_type": "code",
   "source": [
    "# Gradient descent function\n",
    "def train_logistic_regression(X, y, learning_rate=0.1, iterations=1000, lambda_=0.1):\n",
    "    m, n = X.shape\n",
    "    w = np.zeros(n)\n",
    "    b = 0\n",
    "    costs = []\n",
    "\n",
    "    for i in range(iterations):\n",
    "        z = np.dot(X, w) + b\n",
    "        y_hat = sigmoid(z)\n",
    "\n",
    "        # Gradients\n",
    "        dw = (1 / m) * np.dot(X.T, (y_hat - y))\n",
    "        db = (1 / m) * np.sum(y_hat - y)\n",
    "\n",
    "        # Update weights\n",
    "        w -= learning_rate * dw\n",
    "        b -= learning_rate * db\n",
    "\n",
    "        # Track cost\n",
    "        cost = compute_cost(X, y, w, b, lambda_)\n",
    "        costs.append(cost)\n",
    "\n",
    "        if i % 100 == 0 or i == iterations - 1:\n",
    "            print(f\"Iteration {i}: Cost = {cost:.4f}\")\n",
    "        \n",
    "        # Converging condition    \n",
    "        if i > 1 and abs(costs[-1] - costs[-2]) < 1e-06:\n",
    "            print(f\"Converged at iteration {i}.\")\n",
    "            break\n",
    "\n",
    "    return w, b, costs"
   ],
   "id": "2fb65d5a3c498c1a",
   "outputs": [],
   "execution_count": 8
  },
  {
   "metadata": {},
   "cell_type": "markdown",
   "source": [
    "## 6. Model Evaluation\n",
    "\n",
    "We evaluate the model on the **test set** using:\n",
    "- **Accuracy**: The percentage of correct predictions\n",
    "- **Confusion matrix**: How many spams and hams were correctly/incorrectly classified\n",
    "- **Classification report**: Includes precision, recall, and F1-score\n",
    "\n",
    "The model uses a threshold of 0.5 to classify probabilities as spam (1) or ham (0).\n"
   ],
   "id": "93fb385e0f1a2921"
  },
  {
   "metadata": {},
   "cell_type": "markdown",
   "source": [
    "### 6.1 Predict Function\n",
    "\n",
    "The `predict` function uses the trained weights `w` and bias `b` to make predictions on new data.\n",
    "\n",
    "It follows these steps:\n",
    "1. Computes the linear combination:  \n",
    "   $$\n",
    "   z = w \\cdot x + b\n",
    "   $$\n",
    "2. Applies the **sigmoid** function to convert `z` into probabilities between 0 and 1\n",
    "3. Classifies each example:\n",
    "   - If $ \\hat{y} \\geq 0.5 $, it's classified as **spam (1)**\n",
    "   - If $ \\hat{y} < 0.5 $, it's classified as **ham (0)**\n",
    "\n",
    "This function returns the final predicted labels for each input sample.\n"
   ],
   "id": "57b678e67f13a876"
  },
  {
   "metadata": {
    "ExecuteTime": {
     "end_time": "2025-07-08T18:02:58.729927Z",
     "start_time": "2025-07-08T18:02:58.724656Z"
    }
   },
   "cell_type": "code",
   "source": [
    "# Define predict function\n",
    "def predict(X, w, b):\n",
    "    \"\"\"\n",
    "    Predicts whether an email vector is a spam or ham.\n",
    "    :param X: \n",
    "    :param w: vector of trained weights\n",
    "    :param b: float of trained bias\n",
    "    :return: vector of labeled values 0 or 1\n",
    "    \"\"\"\n",
    "    z = np.dot(X, w) + b\n",
    "    y_hat = sigmoid(z)\n",
    "    return np.where(y_hat > 0.5, 1, 0)"
   ],
   "id": "66c439578b6c9e29",
   "outputs": [],
   "execution_count": 9
  },
  {
   "metadata": {},
   "cell_type": "markdown",
   "source": [
    "### 6.2 Accuracy Function\n",
    "\n",
    "The `accuracy` function evaluates the performance of our logistic regression model by comparing the predicted labels to the actual labels.\n",
    "\n",
    "It calculates:\n",
    "\n",
    "$$\n",
    "\\text{Accuracy} = \\frac{\\text{Number of Correct Predictions}}{\\text{Total Predictions}}\n",
    "$$\n",
    "\n",
    "This gives a simple metric — expressed as a percentage — showing how well the model performed on the test set.\n"
   ],
   "id": "a3093f228724f89f"
  },
  {
   "metadata": {
    "ExecuteTime": {
     "end_time": "2025-07-08T18:02:58.734688Z",
     "start_time": "2025-07-08T18:02:58.729927Z"
    }
   },
   "cell_type": "code",
   "source": [
    "# Define accuracy function\n",
    "def accuracy(y_pred, y_test):\n",
    "    \"\"\"\n",
    "    Calculates the accuracy of the predictions.\n",
    "    :param y_pred: vector of predicted values\n",
    "    :param y_test: vector of true values\n",
    "    :return: float accuracy of the predictions\n",
    "    \"\"\"\n",
    "    return np.mean(y_pred == y_test)"
   ],
   "id": "e92963054bf354de",
   "outputs": [],
   "execution_count": 10
  },
  {
   "metadata": {},
   "cell_type": "markdown",
   "source": "### 6.3 Train the model, Run Predictions and Tests",
   "id": "3167f31dfcdbfb1"
  },
  {
   "metadata": {
    "ExecuteTime": {
     "end_time": "2025-07-08T18:04:03.714275Z",
     "start_time": "2025-07-08T18:02:58.734688Z"
    }
   },
   "cell_type": "code",
   "source": [
    "# Train on X_train, y_train\n",
    "w, b, costs = train_logistic_regression(X_train, y_train, learning_rate=0.01, iterations=10000, lambda_=10.0)"
   ],
   "id": "257e9d0bdf95cadf",
   "outputs": [
    {
     "name": "stdout",
     "output_type": "stream",
     "text": [
      "Iteration 0: Cost = 0.6667\n",
      "Iteration 100: Cost = 0.4056\n",
      "Iteration 200: Cost = 0.3364\n",
      "Iteration 300: Cost = 0.2973\n",
      "Iteration 400: Cost = 0.2710\n",
      "Iteration 500: Cost = 0.2518\n",
      "Iteration 600: Cost = 0.2369\n",
      "Iteration 700: Cost = 0.2251\n",
      "Iteration 800: Cost = 0.2154\n",
      "Iteration 900: Cost = 0.2073\n",
      "Iteration 1000: Cost = 0.2005\n",
      "Iteration 1100: Cost = 0.1947\n",
      "Iteration 1200: Cost = 0.1896\n",
      "Iteration 1300: Cost = 0.1853\n",
      "Iteration 1400: Cost = 0.1815\n",
      "Iteration 1500: Cost = 0.1781\n",
      "Iteration 1600: Cost = 0.1751\n",
      "Iteration 1700: Cost = 0.1725\n",
      "Iteration 1800: Cost = 0.1702\n",
      "Iteration 1900: Cost = 0.1681\n",
      "Iteration 2000: Cost = 0.1663\n",
      "Iteration 2100: Cost = 0.1646\n",
      "Iteration 2200: Cost = 0.1632\n",
      "Iteration 2300: Cost = 0.1619\n",
      "Iteration 2400: Cost = 0.1607\n",
      "Iteration 2500: Cost = 0.1597\n",
      "Iteration 2600: Cost = 0.1588\n",
      "Iteration 2700: Cost = 0.1580\n",
      "Iteration 2800: Cost = 0.1573\n",
      "Iteration 2900: Cost = 0.1566\n",
      "Iteration 3000: Cost = 0.1561\n",
      "Iteration 3100: Cost = 0.1556\n",
      "Iteration 3200: Cost = 0.1552\n",
      "Iteration 3300: Cost = 0.1549\n",
      "Iteration 3400: Cost = 0.1546\n",
      "Iteration 3500: Cost = 0.1544\n",
      "Iteration 3600: Cost = 0.1542\n",
      "Iteration 3700: Cost = 0.1541\n",
      "Converged at iteration 3704.\n"
     ]
    }
   ],
   "execution_count": 11
  },
  {
   "metadata": {
    "ExecuteTime": {
     "end_time": "2025-07-08T18:04:03.849805Z",
     "start_time": "2025-07-08T18:04:03.714275Z"
    }
   },
   "cell_type": "code",
   "source": [
    "# Visualize the cost reduction\n",
    "plt.figure(figsize=(8, 6))\n",
    "plt.plot(costs)\n",
    "plt.title(\"Cost over Iterations\")\n",
    "plt.xlabel(\"Iteration\")\n",
    "plt.ylabel(\"Cost\")\n",
    "plt.grid(True)\n",
    "plt.show()"
   ],
   "id": "1e1d3832802f307c",
   "outputs": [
    {
     "data": {
      "text/plain": [
       "<Figure size 800x600 with 1 Axes>"
      ],
      "image/png": "[encoded data removed]"
     },
     "metadata": {},
     "output_type": "display_data"
    }
   ],
   "execution_count": 12
  },
  {
   "metadata": {
    "ExecuteTime": {
     "end_time": "2025-07-08T18:04:03.858051Z",
     "start_time": "2025-07-08T18:04:03.849805Z"
    }
   },
   "cell_type": "code",
   "source": [
    "# Predict on test set\n",
    "y_pred_test = predict(X_test, w, b)\n",
    "\n",
    "# Calculate accuracy\n",
    "acc = accuracy(y_pred_test, y_test)\n",
    "print(f\"Test Accuracy: {acc * 100:.2f}%\")"
   ],
   "id": "4c4613c512eb295e",
   "outputs": [
    {
     "name": "stdout",
     "output_type": "stream",
     "text": [
      "Test Accuracy: 93.00%\n"
     ]
    }
   ],
   "execution_count": 13
  },
  {
   "metadata": {},
   "cell_type": "markdown",
   "source": [
    "## Conclusion\n",
    "\n",
    "In this project, we built a logistic regression model **from scratch using NumPy** to classify emails as spam or ham using real-world data from the TREC 2007 and Enron Spam corpora.\n",
    "\n",
    "We went beyond library usage and implemented every core component manually:\n",
    "- Cleaned and preprocessed thousands of raw email messages\n",
    "- Converted text to numerical features using the Bag-of-Words model\n",
    "- Implemented logistic regression with gradient descent\n",
    "- Tracked model performance and visualized cost reduction over time\n",
    "- Applied L2 regularization to improve generalization\n",
    "- Evaluated our model using accuracy, confusion matrix, and classification report\n",
    "\n",
    "This hands-on project deepened understanding of:\n",
    "- Binary classification with logistic regression\n",
    "- Working with text data in machine learning\n",
    "- The importance of feature scaling, regularization, and careful evaluation\n",
    "\n",
    "**Thanks for reading!**\n"
   ],
   "id": "7f3768ed06631838"
  },
  {
   "metadata": {},
   "cell_type": "code",
   "outputs": [],
   "execution_count": null,
   "source": "",
   "id": "fa18fa249311d27c"
  }
 ],
 "metadata": {
  "kernelspec": {
   "display_name": "Python 3",
   "language": "python",
   "name": "python3"
  },
  "language_info": {
   "codemirror_mode": {
    "name": "ipython",
    "version": 2
   },
   "file_extension": ".py",
   "mimetype": "text/x-python",
   "name": "python",
   "nbconvert_exporter": "python",
   "pygments_lexer": "ipython2",
   "version": "2.7.6"
  }
 },
 "nbformat": 4,
 "nbformat_minor": 5
}
