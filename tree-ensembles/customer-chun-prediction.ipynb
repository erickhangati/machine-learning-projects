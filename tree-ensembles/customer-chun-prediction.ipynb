{
 "cells": [
  {
   "metadata": {},
   "cell_type": "markdown",
   "source": [
    "# Customer Churn Prediction with Random Forest and XGBoost\n",
    "\n",
    "Predicting customer churn is a crucial task for companies that rely on subscriptions or long-term customers. In this project, we'll build machine learning models that can predict whether a customer is likely to stop using a service (\"churn\").\n",
    "\n",
    "We'll work with the popular **Telco Customer Churn Dataset** and go through every step of building a predictive model:\n",
    "\n",
    "- Data exploration and visualization\n",
    "- Data preprocessing and encoding\n",
    "- Training a Random Forest Classifier\n",
    "- Training an XGBoost Classifier\n",
    "- Analyzing feature importance\n",
    "- Hyperparameter tuning\n",
    "- Evaluating and comparing models\n"
   ],
   "id": "b23279685e6cabde"
  },
  {
   "metadata": {},
   "cell_type": "markdown",
   "source": "## Step 1. Import Required Libraries",
   "id": "a4eecc6ccd9adf50"
  },
  {
   "metadata": {
    "ExecuteTime": {
     "end_time": "2025-10-20T13:49:15.894654Z",
     "start_time": "2025-10-20T13:49:15.550365Z"
    }
   },
   "cell_type": "code",
   "source": [
    "# Basic tools for data analysis\n",
    "import pandas as pd\n",
    "import numpy as np\n",
    "\n",
    "# Visualization\n",
    "from matplotlib import pyplot as plt\n",
    "import seaborn as sns\n",
    "\n",
    "# Machine Learning models and tools\n",
    "from sklearn.model_selection import train_test_split, RandomizedSearchCV\n",
    "from sklearn.ensemble import RandomForestClassifier\n",
    "from sklearn.metrics import accuracy_score, classification_report, confusion_matrix\n",
    "\n",
    "# XGBoost library\n",
    "import xgboost as xgb\n",
    "\n",
    "# Label encoding for categorical variables\n",
    "from sklearn.preprocessing import LabelEncoder\n",
    "\n",
    "# Suppress warnings for cleaner output\n",
    "import warnings\n",
    "\n",
    "warnings.filterwarnings('ignore')\n",
    "\n",
    "# Set visual style for plots\n",
    "sns.set(style='whitegrid')"
   ],
   "id": "4c7abeb1c28f920b",
   "outputs": [],
   "execution_count": 1
  },
  {
   "metadata": {},
   "cell_type": "markdown",
   "source": [
    "## Step 2. Dataset Overview\n",
    "\n",
    "In this project, we'll use the [**Telco Customer Churn dataset**](https://www.kaggle.com/datasets/yeanzc/telco-customer-churn-ibm-dataset) provided by IBM. The dataset includes customer information such as:\n",
    "\n",
    "- Demographics (gender, age, partner, dependents)\n",
    "- Account details (tenure, contract, paperless billing)\n",
    "- Services signed up (internet, phone, multiple lines, streaming)\n",
    "- Payment and billing (monthly charges, total charges, payment method)\n",
    "- Whether or not the customer **churned**\n",
    "\n",
    "Each row represents one customer. The target variable is the `Churn` column, which is either \"Yes\" or \"No\".\n",
    "\n",
    "We'll begin by loading and inspecting the dataset.\n"
   ],
   "id": "eb210736cd497e98"
  },
  {
   "metadata": {
    "ExecuteTime": {
     "end_time": "2025-10-20T13:49:16.001852Z",
     "start_time": "2025-10-20T13:49:15.894654Z"
    }
   },
   "cell_type": "code",
   "source": [
    "# Load dataset\n",
    "df = pd.read_csv('telco-customer-churn.csv')\n",
    "\n",
    "# Show basic information of the dataset\n",
    "print(f\"Dataset Shape (rows, columns): {df.shape}\")\n",
    "df.head()"
   ],
   "id": "3fc306c3bb47eac3",
   "outputs": [
    {
     "name": "stdout",
     "output_type": "stream",
     "text": [
      "Dataset Shape (rows, columns): (7043, 33)\n"
     ]
    },
    {
     "data": {
      "text/plain": [
       "   CustomerID  Count        Country       State         City  Zip Code  \\\n",
       "0  3668-QPYBK      1  United States  California  Los Angeles     90003   \n",
       "1  9237-HQITU      1  United States  California  Los Angeles     90005   \n",
       "2  9305-CDSKC      1  United States  California  Los Angeles     90006   \n",
       "3  7892-POOKP      1  United States  California  Los Angeles     90010   \n",
       "4  0280-XJGEX      1  United States  California  Los Angeles     90015   \n",
       "\n",
       "                 Lat Long   Latitude   Longitude  Gender  ...        Contract  \\\n",
       "0  33.964131, -118.272783  33.964131 -118.272783    Male  ...  Month-to-month   \n",
       "1   34.059281, -118.30742  34.059281 -118.307420  Female  ...  Month-to-month   \n",
       "2  34.048013, -118.293953  34.048013 -118.293953  Female  ...  Month-to-month   \n",
       "3  34.062125, -118.315709  34.062125 -118.315709  Female  ...  Month-to-month   \n",
       "4  34.039224, -118.266293  34.039224 -118.266293    Male  ...  Month-to-month   \n",
       "\n",
       "  Paperless Billing             Payment Method  Monthly Charges Total Charges  \\\n",
       "0               Yes               Mailed check            53.85        108.15   \n",
       "1               Yes           Electronic check            70.70        151.65   \n",
       "2               Yes           Electronic check            99.65         820.5   \n",
       "3               Yes           Electronic check           104.80       3046.05   \n",
       "4               Yes  Bank transfer (automatic)           103.70        5036.3   \n",
       "\n",
       "  Churn Label Churn Value Churn Score  CLTV                   Churn Reason  \n",
       "0         Yes           1          86  3239   Competitor made better offer  \n",
       "1         Yes           1          67  2701                          Moved  \n",
       "2         Yes           1          86  5372                          Moved  \n",
       "3         Yes           1          84  5003                          Moved  \n",
       "4         Yes           1          89  5340  Competitor had better devices  \n",
       "\n",
       "[5 rows x 33 columns]"
      ],
      "text/html": [
       "<div>\n",
       "<style scoped>\n",
       "    .dataframe tbody tr th:only-of-type {\n",
       "        vertical-align: middle;\n",
       "    }\n",
       "\n",
       "    .dataframe tbody tr th {\n",
       "        vertical-align: top;\n",
       "    }\n",
       "\n",
       "    .dataframe thead th {\n",
       "        text-align: right;\n",
       "    }\n",
       "</style>\n",
       "<table border=\"1\" class=\"dataframe\">\n",
       "  <thead>\n",
       "    <tr style=\"text-align: right;\">\n",
       "      <th></th>\n",
       "      <th>CustomerID</th>\n",
       "      <th>Count</th>\n",
       "      <th>Country</th>\n",
       "      <th>State</th>\n",
       "      <th>City</th>\n",
       "      <th>Zip Code</th>\n",
       "      <th>Lat Long</th>\n",
       "      <th>Latitude</th>\n",
       "      <th>Longitude</th>\n",
       "      <th>Gender</th>\n",
       "      <th>...</th>\n",
       "      <th>Contract</th>\n",
       "      <th>Paperless Billing</th>\n",
       "      <th>Payment Method</th>\n",
       "      <th>Monthly Charges</th>\n",
       "      <th>Total Charges</th>\n",
       "      <th>Churn Label</th>\n",
       "      <th>Churn Value</th>\n",
       "      <th>Churn Score</th>\n",
       "      <th>CLTV</th>\n",
       "      <th>Churn Reason</th>\n",
       "    </tr>\n",
       "  </thead>\n",
       "  <tbody>\n",
       "    <tr>\n",
       "      <th>0</th>\n",
       "      <td>3668-QPYBK</td>\n",
       "      <td>1</td>\n",
       "      <td>United States</td>\n",
       "      <td>California</td>\n",
       "      <td>Los Angeles</td>\n",
       "      <td>90003</td>\n",
       "      <td>33.964131, -118.272783</td>\n",
       "      <td>33.964131</td>\n",
       "      <td>-118.272783</td>\n",
       "      <td>Male</td>\n",
       "      <td>...</td>\n",
       "      <td>Month-to-month</td>\n",
       "      <td>Yes</td>\n",
       "      <td>Mailed check</td>\n",
       "      <td>53.85</td>\n",
       "      <td>108.15</td>\n",
       "      <td>Yes</td>\n",
       "      <td>1</td>\n",
       "      <td>86</td>\n",
       "      <td>3239</td>\n",
       "      <td>Competitor made better offer</td>\n",
       "    </tr>\n",
       "    <tr>\n",
       "      <th>1</th>\n",
       "      <td>9237-HQITU</td>\n",
       "      <td>1</td>\n",
       "      <td>United States</td>\n",
       "      <td>California</td>\n",
       "      <td>Los Angeles</td>\n",
       "      <td>90005</td>\n",
       "      <td>34.059281, -118.30742</td>\n",
       "      <td>34.059281</td>\n",
       "      <td>-118.307420</td>\n",
       "      <td>Female</td>\n",
       "      <td>...</td>\n",
       "      <td>Month-to-month</td>\n",
       "      <td>Yes</td>\n",
       "      <td>Electronic check</td>\n",
       "      <td>70.70</td>\n",
       "      <td>151.65</td>\n",
       "      <td>Yes</td>\n",
       "      <td>1</td>\n",
       "      <td>67</td>\n",
       "      <td>2701</td>\n",
       "      <td>Moved</td>\n",
       "    </tr>\n",
       "    <tr>\n",
       "      <th>2</th>\n",
       "      <td>9305-CDSKC</td>\n",
       "      <td>1</td>\n",
       "      <td>United States</td>\n",
       "      <td>California</td>\n",
       "      <td>Los Angeles</td>\n",
       "      <td>90006</td>\n",
       "      <td>34.048013, -118.293953</td>\n",
       "      <td>34.048013</td>\n",
       "      <td>-118.293953</td>\n",
       "      <td>Female</td>\n",
       "      <td>...</td>\n",
       "      <td>Month-to-month</td>\n",
       "      <td>Yes</td>\n",
       "      <td>Electronic check</td>\n",
       "      <td>99.65</td>\n",
       "      <td>820.5</td>\n",
       "      <td>Yes</td>\n",
       "      <td>1</td>\n",
       "      <td>86</td>\n",
       "      <td>5372</td>\n",
       "      <td>Moved</td>\n",
       "    </tr>\n",
       "    <tr>\n",
       "      <th>3</th>\n",
       "      <td>7892-POOKP</td>\n",
       "      <td>1</td>\n",
       "      <td>United States</td>\n",
       "      <td>California</td>\n",
       "      <td>Los Angeles</td>\n",
       "      <td>90010</td>\n",
       "      <td>34.062125, -118.315709</td>\n",
       "      <td>34.062125</td>\n",
       "      <td>-118.315709</td>\n",
       "      <td>Female</td>\n",
       "      <td>...</td>\n",
       "      <td>Month-to-month</td>\n",
       "      <td>Yes</td>\n",
       "      <td>Electronic check</td>\n",
       "      <td>104.80</td>\n",
       "      <td>3046.05</td>\n",
       "      <td>Yes</td>\n",
       "      <td>1</td>\n",
       "      <td>84</td>\n",
       "      <td>5003</td>\n",
       "      <td>Moved</td>\n",
       "    </tr>\n",
       "    <tr>\n",
       "      <th>4</th>\n",
       "      <td>0280-XJGEX</td>\n",
       "      <td>1</td>\n",
       "      <td>United States</td>\n",
       "      <td>California</td>\n",
       "      <td>Los Angeles</td>\n",
       "      <td>90015</td>\n",
       "      <td>34.039224, -118.266293</td>\n",
       "      <td>34.039224</td>\n",
       "      <td>-118.266293</td>\n",
       "      <td>Male</td>\n",
       "      <td>...</td>\n",
       "      <td>Month-to-month</td>\n",
       "      <td>Yes</td>\n",
       "      <td>Bank transfer (automatic)</td>\n",
       "      <td>103.70</td>\n",
       "      <td>5036.3</td>\n",
       "      <td>Yes</td>\n",
       "      <td>1</td>\n",
       "      <td>89</td>\n",
       "      <td>5340</td>\n",
       "      <td>Competitor had better devices</td>\n",
       "    </tr>\n",
       "  </tbody>\n",
       "</table>\n",
       "<p>5 rows × 33 columns</p>\n",
       "</div>"
      ]
     },
     "execution_count": 2,
     "metadata": {},
     "output_type": "execute_result"
    }
   ],
   "execution_count": 2
  },
  {
   "metadata": {},
   "cell_type": "markdown",
   "source": [
    "## Step 3: Exploratory Data Analysis (EDA)\n",
    "\n",
    "Before building any models, it's important to explore the dataset:\n",
    "\n",
    "- Understand the size and structure of the data\n",
    "- Detect any missing values or incorrect data types\n",
    "- Understand the distribution of the target column (`Churn Label`)\n",
    "- Analyze how churn varies across key features like contract type, monthly charges, internet service, etc.\n",
    "\n",
    "This will help us decide which features might be most useful for prediction."
   ],
   "id": "f7e1700ad2aca05a"
  },
  {
   "metadata": {
    "ExecuteTime": {
     "end_time": "2025-10-20T13:49:16.014940Z",
     "start_time": "2025-10-20T13:49:16.003863Z"
    }
   },
   "cell_type": "code",
   "source": [
    "# Show column names and data types\n",
    "df.dtypes"
   ],
   "id": "27327bc42e85db07",
   "outputs": [
    {
     "data": {
      "text/plain": [
       "CustomerID            object\n",
       "Count                  int64\n",
       "Country               object\n",
       "State                 object\n",
       "City                  object\n",
       "Zip Code               int64\n",
       "Lat Long              object\n",
       "Latitude             float64\n",
       "Longitude            float64\n",
       "Gender                object\n",
       "Senior Citizen        object\n",
       "Partner               object\n",
       "Dependents            object\n",
       "Tenure Months          int64\n",
       "Phone Service         object\n",
       "Multiple Lines        object\n",
       "Internet Service      object\n",
       "Online Security       object\n",
       "Online Backup         object\n",
       "Device Protection     object\n",
       "Tech Support          object\n",
       "Streaming TV          object\n",
       "Streaming Movies      object\n",
       "Contract              object\n",
       "Paperless Billing     object\n",
       "Payment Method        object\n",
       "Monthly Charges      float64\n",
       "Total Charges         object\n",
       "Churn Label           object\n",
       "Churn Value            int64\n",
       "Churn Score            int64\n",
       "CLTV                   int64\n",
       "Churn Reason          object\n",
       "dtype: object"
      ]
     },
     "execution_count": 3,
     "metadata": {},
     "output_type": "execute_result"
    }
   ],
   "execution_count": 3
  },
  {
   "metadata": {
    "ExecuteTime": {
     "end_time": "2025-10-20T13:49:16.037819Z",
     "start_time": "2025-10-20T13:49:16.018964Z"
    }
   },
   "cell_type": "code",
   "source": [
    "# Check for missing values\n",
    "df.isnull().sum()"
   ],
   "id": "90c8fb9d413d4f45",
   "outputs": [
    {
     "data": {
      "text/plain": [
       "CustomerID              0\n",
       "Count                   0\n",
       "Country                 0\n",
       "State                   0\n",
       "City                    0\n",
       "Zip Code                0\n",
       "Lat Long                0\n",
       "Latitude                0\n",
       "Longitude               0\n",
       "Gender                  0\n",
       "Senior Citizen          0\n",
       "Partner                 0\n",
       "Dependents              0\n",
       "Tenure Months           0\n",
       "Phone Service           0\n",
       "Multiple Lines          0\n",
       "Internet Service        0\n",
       "Online Security         0\n",
       "Online Backup           0\n",
       "Device Protection       0\n",
       "Tech Support            0\n",
       "Streaming TV            0\n",
       "Streaming Movies        0\n",
       "Contract                0\n",
       "Paperless Billing       0\n",
       "Payment Method          0\n",
       "Monthly Charges         0\n",
       "Total Charges           0\n",
       "Churn Label             0\n",
       "Churn Value             0\n",
       "Churn Score             0\n",
       "CLTV                    0\n",
       "Churn Reason         5174\n",
       "dtype: int64"
      ]
     },
     "execution_count": 4,
     "metadata": {},
     "output_type": "execute_result"
    }
   ],
   "execution_count": 4
  },
  {
   "metadata": {
    "ExecuteTime": {
     "end_time": "2025-10-20T13:49:16.077189Z",
     "start_time": "2025-10-20T13:49:16.037819Z"
    }
   },
   "cell_type": "code",
   "source": [
    "# See basic summary for numerical columns\n",
    "df.describe()"
   ],
   "id": "90f2ca93b7453a1f",
   "outputs": [
    {
     "data": {
      "text/plain": [
       "        Count      Zip Code     Latitude    Longitude  Tenure Months  \\\n",
       "count  7043.0   7043.000000  7043.000000  7043.000000    7043.000000   \n",
       "mean      1.0  93521.964646    36.282441  -119.798880      32.371149   \n",
       "std       0.0   1865.794555     2.455723     2.157889      24.559481   \n",
       "min       1.0  90001.000000    32.555828  -124.301372       0.000000   \n",
       "25%       1.0  92102.000000    34.030915  -121.815412       9.000000   \n",
       "50%       1.0  93552.000000    36.391777  -119.730885      29.000000   \n",
       "75%       1.0  95351.000000    38.224869  -118.043237      55.000000   \n",
       "max       1.0  96161.000000    41.962127  -114.192901      72.000000   \n",
       "\n",
       "       Monthly Charges  Churn Value  Churn Score         CLTV  \n",
       "count      7043.000000  7043.000000  7043.000000  7043.000000  \n",
       "mean         64.761692     0.265370    58.699418  4400.295755  \n",
       "std          30.090047     0.441561    21.525131  1183.057152  \n",
       "min          18.250000     0.000000     5.000000  2003.000000  \n",
       "25%          35.500000     0.000000    40.000000  3469.000000  \n",
       "50%          70.350000     0.000000    61.000000  4527.000000  \n",
       "75%          89.850000     1.000000    75.000000  5380.500000  \n",
       "max         118.750000     1.000000   100.000000  6500.000000  "
      ],
      "text/html": [
       "<div>\n",
       "<style scoped>\n",
       "    .dataframe tbody tr th:only-of-type {\n",
       "        vertical-align: middle;\n",
       "    }\n",
       "\n",
       "    .dataframe tbody tr th {\n",
       "        vertical-align: top;\n",
       "    }\n",
       "\n",
       "    .dataframe thead th {\n",
       "        text-align: right;\n",
       "    }\n",
       "</style>\n",
       "<table border=\"1\" class=\"dataframe\">\n",
       "  <thead>\n",
       "    <tr style=\"text-align: right;\">\n",
       "      <th></th>\n",
       "      <th>Count</th>\n",
       "      <th>Zip Code</th>\n",
       "      <th>Latitude</th>\n",
       "      <th>Longitude</th>\n",
       "      <th>Tenure Months</th>\n",
       "      <th>Monthly Charges</th>\n",
       "      <th>Churn Value</th>\n",
       "      <th>Churn Score</th>\n",
       "      <th>CLTV</th>\n",
       "    </tr>\n",
       "  </thead>\n",
       "  <tbody>\n",
       "    <tr>\n",
       "      <th>count</th>\n",
       "      <td>7043.0</td>\n",
       "      <td>7043.000000</td>\n",
       "      <td>7043.000000</td>\n",
       "      <td>7043.000000</td>\n",
       "      <td>7043.000000</td>\n",
       "      <td>7043.000000</td>\n",
       "      <td>7043.000000</td>\n",
       "      <td>7043.000000</td>\n",
       "      <td>7043.000000</td>\n",
       "    </tr>\n",
       "    <tr>\n",
       "      <th>mean</th>\n",
       "      <td>1.0</td>\n",
       "      <td>93521.964646</td>\n",
       "      <td>36.282441</td>\n",
       "      <td>-119.798880</td>\n",
       "      <td>32.371149</td>\n",
       "      <td>64.761692</td>\n",
       "      <td>0.265370</td>\n",
       "      <td>58.699418</td>\n",
       "      <td>4400.295755</td>\n",
       "    </tr>\n",
       "    <tr>\n",
       "      <th>std</th>\n",
       "      <td>0.0</td>\n",
       "      <td>1865.794555</td>\n",
       "      <td>2.455723</td>\n",
       "      <td>2.157889</td>\n",
       "      <td>24.559481</td>\n",
       "      <td>30.090047</td>\n",
       "      <td>0.441561</td>\n",
       "      <td>21.525131</td>\n",
       "      <td>1183.057152</td>\n",
       "    </tr>\n",
       "    <tr>\n",
       "      <th>min</th>\n",
       "      <td>1.0</td>\n",
       "      <td>90001.000000</td>\n",
       "      <td>32.555828</td>\n",
       "      <td>-124.301372</td>\n",
       "      <td>0.000000</td>\n",
       "      <td>18.250000</td>\n",
       "      <td>0.000000</td>\n",
       "      <td>5.000000</td>\n",
       "      <td>2003.000000</td>\n",
       "    </tr>\n",
       "    <tr>\n",
       "      <th>25%</th>\n",
       "      <td>1.0</td>\n",
       "      <td>92102.000000</td>\n",
       "      <td>34.030915</td>\n",
       "      <td>-121.815412</td>\n",
       "      <td>9.000000</td>\n",
       "      <td>35.500000</td>\n",
       "      <td>0.000000</td>\n",
       "      <td>40.000000</td>\n",
       "      <td>3469.000000</td>\n",
       "    </tr>\n",
       "    <tr>\n",
       "      <th>50%</th>\n",
       "      <td>1.0</td>\n",
       "      <td>93552.000000</td>\n",
       "      <td>36.391777</td>\n",
       "      <td>-119.730885</td>\n",
       "      <td>29.000000</td>\n",
       "      <td>70.350000</td>\n",
       "      <td>0.000000</td>\n",
       "      <td>61.000000</td>\n",
       "      <td>4527.000000</td>\n",
       "    </tr>\n",
       "    <tr>\n",
       "      <th>75%</th>\n",
       "      <td>1.0</td>\n",
       "      <td>95351.000000</td>\n",
       "      <td>38.224869</td>\n",
       "      <td>-118.043237</td>\n",
       "      <td>55.000000</td>\n",
       "      <td>89.850000</td>\n",
       "      <td>1.000000</td>\n",
       "      <td>75.000000</td>\n",
       "      <td>5380.500000</td>\n",
       "    </tr>\n",
       "    <tr>\n",
       "      <th>max</th>\n",
       "      <td>1.0</td>\n",
       "      <td>96161.000000</td>\n",
       "      <td>41.962127</td>\n",
       "      <td>-114.192901</td>\n",
       "      <td>72.000000</td>\n",
       "      <td>118.750000</td>\n",
       "      <td>1.000000</td>\n",
       "      <td>100.000000</td>\n",
       "      <td>6500.000000</td>\n",
       "    </tr>\n",
       "  </tbody>\n",
       "</table>\n",
       "</div>"
      ]
     },
     "execution_count": 5,
     "metadata": {},
     "output_type": "execute_result"
    }
   ],
   "execution_count": 5
  },
  {
   "metadata": {},
   "cell_type": "markdown",
   "source": [
    "## Step 4: Explore Target Variable (`Churn Label`)\n",
    "\n",
    "The column `Churn Label` is our **target variable**. It tells us whether a customer **churned** (`\"Yes\"`) or **did not churn** (`\"No\"`).\n",
    "\n",
    "Before building a model, we need to:\n",
    "- Check the **balance** of the classes\n",
    "- Visualize how many customers churned vs didn’t\n",
    "- Understand if there’s any **class imbalance** (which might require handling)\n",
    "\n",
    "Let’s explore the distribution.\n"
   ],
   "id": "9ec295b471a17b3"
  },
  {
   "metadata": {
    "ExecuteTime": {
     "end_time": "2025-10-20T13:49:16.366543Z",
     "start_time": "2025-10-20T13:49:16.077189Z"
    }
   },
   "cell_type": "code",
   "source": [
    "# Count values in the target column\n",
    "churn_counts = df['Churn Value'].value_counts()\n",
    "\n",
    "# Plot the distribution\n",
    "plt.figure(figsize=(6, 4))\n",
    "sns.barplot(x=churn_counts.index, y=churn_counts.values, palette='pastel')\n",
    "plt.title('Customer Churn Distribution')\n",
    "plt.ylabel('Number of Customers')\n",
    "plt.xlabel('Churn Label')\n",
    "plt.tight_layout()\n",
    "plt.show()\n",
    "\n",
    "# Print counts and percentages\n",
    "print(\"Churn Counts:\\n\", churn_counts)\n",
    "print(\"\\nChurn Percentages:\\n\", round((churn_counts / len(df)) * 100, 2))"
   ],
   "id": "1ca14704deb6c6c3",
   "outputs": [
    {
     "data": {
      "text/plain": [
       "<Figure size 600x400 with 1 Axes>"
      ],
      "image/png": "[encoded data removed]"
     },
     "metadata": {},
     "output_type": "display_data"
    },
    {
     "name": "stdout",
     "output_type": "stream",
     "text": [
      "Churn Counts:\n",
      " Churn Value\n",
      "0    5174\n",
      "1    1869\n",
      "Name: count, dtype: int64\n",
      "\n",
      "Churn Percentages:\n",
      " Churn Value\n",
      "0    73.46\n",
      "1    26.54\n",
      "Name: count, dtype: float64\n"
     ]
    }
   ],
   "execution_count": 6
  },
  {
   "metadata": {},
   "cell_type": "markdown",
   "source": [
    "### What This Tells Us:\n",
    "Out of `7,043` customers, about `26.5%` have churned and `73.5%` have stayed.\n",
    "\n",
    "This is a class imbalance, though not extreme — still important to be aware of for model training and evaluation.\n",
    "\n",
    "We'll address this during modeling by using evaluation metrics beyond accuracy (like precision, recall, F1-score) and possibly balanced class weights if needed."
   ],
   "id": "1655ecab6ffe7aa4"
  },
  {
   "metadata": {},
   "cell_type": "markdown",
   "source": [
    "## Step 5: Drop Irrelevant or Redundant Columns\n",
    "\n",
    "Certain columns won’t help our machine learning model and should be removed:\n",
    "\n",
    "- `CustomerID`: Just an identifier — not useful for learning patterns\n",
    "- Location details: `City`, `Zip Code`, `Latitude`, `Longitude`, `Lat Long` – not meaningful for churn prediction\n",
    "- Post-churn data: `Churn Reason`, `Churn Score`, and `CLTV` — these are outcomes of churn, not predictors\n",
    "\n",
    "Removing them helps keep the model clean and focused only on useful input features."
   ],
   "id": "a5d9fa3c6c6fc12e"
  },
  {
   "metadata": {
    "ExecuteTime": {
     "end_time": "2025-10-20T13:49:16.378471Z",
     "start_time": "2025-10-20T13:49:16.367560Z"
    }
   },
   "cell_type": "code",
   "source": [
    "# List of columns to drop\n",
    "columns_to_drop = ['CustomerID', 'Lat Long', 'Latitude', 'Longitude', 'Zip Code', 'City', 'State', 'Country',\n",
    "                   'Churn Reason', 'Churn Score', 'CLTV', 'Count', 'Churn Value']\n",
    "\n",
    "# Drop them from the dataset\n",
    "df_cleaned = df.drop(columns=columns_to_drop)\n",
    "\n",
    "# Confirm changes\n",
    "print(\"Remaining columns:\", df_cleaned.columns.tolist())\n",
    "print(\"\\nNew shape:\", df_cleaned.shape)"
   ],
   "id": "5a5cb5bf03f3e3ad",
   "outputs": [
    {
     "name": "stdout",
     "output_type": "stream",
     "text": [
      "Remaining columns: ['Gender', 'Senior Citizen', 'Partner', 'Dependents', 'Tenure Months', 'Phone Service', 'Multiple Lines', 'Internet Service', 'Online Security', 'Online Backup', 'Device Protection', 'Tech Support', 'Streaming TV', 'Streaming Movies', 'Contract', 'Paperless Billing', 'Payment Method', 'Monthly Charges', 'Total Charges', 'Churn Label']\n",
      "\n",
      "New shape: (7043, 20)\n"
     ]
    }
   ],
   "execution_count": 7
  },
  {
   "metadata": {},
   "cell_type": "markdown",
   "source": [
    "## Step 6: Encoding Categorical Variables\n",
    "\n",
    "Machine learning models like Random Forest and XGBoost require **numerical input**. That means we need to convert all **categorical columns** (text like \"Yes\"/\"No\", \"Male\"/\"Female\", etc.) into numbers.\n",
    "\n",
    "We'll use:\n",
    "- **Label Encoding**: For binary columns (e.g., `Yes`/`No`, `Male`/`Female`)\n",
    "- **One-Hot Encoding** (optional): For categorical columns with more than 2 values\n",
    "\n",
    "In this project, we’ll use **LabelEncoder** to keep things simple and avoid creating too many columns.\n"
   ],
   "id": "f23a213f30a64fbf"
  },
  {
   "metadata": {
    "ExecuteTime": {
     "end_time": "2025-10-20T13:49:16.439051Z",
     "start_time": "2025-10-20T13:49:16.378471Z"
    }
   },
   "cell_type": "code",
   "source": [
    "# Make a copy of the cleaned data so that we don't change the original cleaned data\n",
    "df_encoded = df_cleaned.copy()\n",
    "\n",
    "# Loop through all the columns and apply LabelEncoder if its a string (object)\n",
    "label_encoders = {}\n",
    "\n",
    "for col in df_encoded.columns:\n",
    "    if df_encoded[col].dtype == 'object':\n",
    "        le = LabelEncoder()\n",
    "        df_encoded[col] = le.fit_transform(df_encoded[col])\n",
    "        label_encoders[col] = le\n",
    "\n",
    "# Confirm all columns are now numeric\n",
    "print(df_encoded.dtypes.value_counts())\n",
    "print(\"\\nEncoded dataset preview:\")\n",
    "df_encoded.head()"
   ],
   "id": "ea0017a630a6e84d",
   "outputs": [
    {
     "name": "stdout",
     "output_type": "stream",
     "text": [
      "int64      19\n",
      "float64     1\n",
      "Name: count, dtype: int64\n",
      "\n",
      "Encoded dataset preview:\n"
     ]
    },
    {
     "data": {
      "text/plain": [
       "   Gender  Senior Citizen  Partner  Dependents  Tenure Months  Phone Service  \\\n",
       "0       1               0        0           0              2              1   \n",
       "1       0               0        0           1              2              1   \n",
       "2       0               0        0           1              8              1   \n",
       "3       0               0        1           1             28              1   \n",
       "4       1               0        0           1             49              1   \n",
       "\n",
       "   Multiple Lines  Internet Service  Online Security  Online Backup  \\\n",
       "0               0                 0                2              2   \n",
       "1               0                 1                0              0   \n",
       "2               2                 1                0              0   \n",
       "3               2                 1                0              0   \n",
       "4               2                 1                0              2   \n",
       "\n",
       "   Device Protection  Tech Support  Streaming TV  Streaming Movies  Contract  \\\n",
       "0                  0             0             0                 0         0   \n",
       "1                  0             0             0                 0         0   \n",
       "2                  2             0             2                 2         0   \n",
       "3                  2             2             2                 2         0   \n",
       "4                  2             0             2                 2         0   \n",
       "\n",
       "   Paperless Billing  Payment Method  Monthly Charges  Total Charges  \\\n",
       "0                  1               3            53.85            157   \n",
       "1                  1               2            70.70            925   \n",
       "2                  1               2            99.65           6104   \n",
       "3                  1               2           104.80           2646   \n",
       "4                  1               0           103.70           4265   \n",
       "\n",
       "   Churn Label  \n",
       "0            1  \n",
       "1            1  \n",
       "2            1  \n",
       "3            1  \n",
       "4            1  "
      ],
      "text/html": [
       "<div>\n",
       "<style scoped>\n",
       "    .dataframe tbody tr th:only-of-type {\n",
       "        vertical-align: middle;\n",
       "    }\n",
       "\n",
       "    .dataframe tbody tr th {\n",
       "        vertical-align: top;\n",
       "    }\n",
       "\n",
       "    .dataframe thead th {\n",
       "        text-align: right;\n",
       "    }\n",
       "</style>\n",
       "<table border=\"1\" class=\"dataframe\">\n",
       "  <thead>\n",
       "    <tr style=\"text-align: right;\">\n",
       "      <th></th>\n",
       "      <th>Gender</th>\n",
       "      <th>Senior Citizen</th>\n",
       "      <th>Partner</th>\n",
       "      <th>Dependents</th>\n",
       "      <th>Tenure Months</th>\n",
       "      <th>Phone Service</th>\n",
       "      <th>Multiple Lines</th>\n",
       "      <th>Internet Service</th>\n",
       "      <th>Online Security</th>\n",
       "      <th>Online Backup</th>\n",
       "      <th>Device Protection</th>\n",
       "      <th>Tech Support</th>\n",
       "      <th>Streaming TV</th>\n",
       "      <th>Streaming Movies</th>\n",
       "      <th>Contract</th>\n",
       "      <th>Paperless Billing</th>\n",
       "      <th>Payment Method</th>\n",
       "      <th>Monthly Charges</th>\n",
       "      <th>Total Charges</th>\n",
       "      <th>Churn Label</th>\n",
       "    </tr>\n",
       "  </thead>\n",
       "  <tbody>\n",
       "    <tr>\n",
       "      <th>0</th>\n",
       "      <td>1</td>\n",
       "      <td>0</td>\n",
       "      <td>0</td>\n",
       "      <td>0</td>\n",
       "      <td>2</td>\n",
       "      <td>1</td>\n",
       "      <td>0</td>\n",
       "      <td>0</td>\n",
       "      <td>2</td>\n",
       "      <td>2</td>\n",
       "      <td>0</td>\n",
       "      <td>0</td>\n",
       "      <td>0</td>\n",
       "      <td>0</td>\n",
       "      <td>0</td>\n",
       "      <td>1</td>\n",
       "      <td>3</td>\n",
       "      <td>53.85</td>\n",
       "      <td>157</td>\n",
       "      <td>1</td>\n",
       "    </tr>\n",
       "    <tr>\n",
       "      <th>1</th>\n",
       "      <td>0</td>\n",
       "      <td>0</td>\n",
       "      <td>0</td>\n",
       "      <td>1</td>\n",
       "      <td>2</td>\n",
       "      <td>1</td>\n",
       "      <td>0</td>\n",
       "      <td>1</td>\n",
       "      <td>0</td>\n",
       "      <td>0</td>\n",
       "      <td>0</td>\n",
       "      <td>0</td>\n",
       "      <td>0</td>\n",
       "      <td>0</td>\n",
       "      <td>0</td>\n",
       "      <td>1</td>\n",
       "      <td>2</td>\n",
       "      <td>70.70</td>\n",
       "      <td>925</td>\n",
       "      <td>1</td>\n",
       "    </tr>\n",
       "    <tr>\n",
       "      <th>2</th>\n",
       "      <td>0</td>\n",
       "      <td>0</td>\n",
       "      <td>0</td>\n",
       "      <td>1</td>\n",
       "      <td>8</td>\n",
       "      <td>1</td>\n",
       "      <td>2</td>\n",
       "      <td>1</td>\n",
       "      <td>0</td>\n",
       "      <td>0</td>\n",
       "      <td>2</td>\n",
       "      <td>0</td>\n",
       "      <td>2</td>\n",
       "      <td>2</td>\n",
       "      <td>0</td>\n",
       "      <td>1</td>\n",
       "      <td>2</td>\n",
       "      <td>99.65</td>\n",
       "      <td>6104</td>\n",
       "      <td>1</td>\n",
       "    </tr>\n",
       "    <tr>\n",
       "      <th>3</th>\n",
       "      <td>0</td>\n",
       "      <td>0</td>\n",
       "      <td>1</td>\n",
       "      <td>1</td>\n",
       "      <td>28</td>\n",
       "      <td>1</td>\n",
       "      <td>2</td>\n",
       "      <td>1</td>\n",
       "      <td>0</td>\n",
       "      <td>0</td>\n",
       "      <td>2</td>\n",
       "      <td>2</td>\n",
       "      <td>2</td>\n",
       "      <td>2</td>\n",
       "      <td>0</td>\n",
       "      <td>1</td>\n",
       "      <td>2</td>\n",
       "      <td>104.80</td>\n",
       "      <td>2646</td>\n",
       "      <td>1</td>\n",
       "    </tr>\n",
       "    <tr>\n",
       "      <th>4</th>\n",
       "      <td>1</td>\n",
       "      <td>0</td>\n",
       "      <td>0</td>\n",
       "      <td>1</td>\n",
       "      <td>49</td>\n",
       "      <td>1</td>\n",
       "      <td>2</td>\n",
       "      <td>1</td>\n",
       "      <td>0</td>\n",
       "      <td>2</td>\n",
       "      <td>2</td>\n",
       "      <td>0</td>\n",
       "      <td>2</td>\n",
       "      <td>2</td>\n",
       "      <td>0</td>\n",
       "      <td>1</td>\n",
       "      <td>0</td>\n",
       "      <td>103.70</td>\n",
       "      <td>4265</td>\n",
       "      <td>1</td>\n",
       "    </tr>\n",
       "  </tbody>\n",
       "</table>\n",
       "</div>"
      ]
     },
     "execution_count": 8,
     "metadata": {},
     "output_type": "execute_result"
    }
   ],
   "execution_count": 8
  },
  {
   "metadata": {},
   "cell_type": "markdown",
   "source": [
    "## Step 7: Split Data into Training and Testing Sets\n",
    "\n",
    "Before we train any machine learning model, we need to **split our dataset** into two parts:\n",
    "\n",
    "- **Training Set**: Used to train the model (typically 70–80% of the data)\n",
    "- **Testing Set**: Used to evaluate how well the model performs on unseen data\n",
    "\n",
    "We'll split the data in such a way that the **class balance** is preserved using `stratify=y`."
   ],
   "id": "146247b1ec01145b"
  },
  {
   "metadata": {
    "ExecuteTime": {
     "end_time": "2025-10-20T13:49:16.456097Z",
     "start_time": "2025-10-20T13:49:16.439051Z"
    }
   },
   "cell_type": "code",
   "source": [
    "# Separate features (X) and target (y)\n",
    "X = df_encoded.drop(columns=['Churn Label'])\n",
    "y = df_encoded['Churn Label']\n",
    "\n",
    "X_train, X_test, y_train, y_test = train_test_split(X, y, test_size=0.2, random_state=42, stratify=y)\n",
    "\n",
    "# Show result\n",
    "print(\"Training samples:\", X_train.shape[0])\n",
    "print(\"Testing samples:\", X_test.shape[0])"
   ],
   "id": "ab709608beb9e6e7",
   "outputs": [
    {
     "name": "stdout",
     "output_type": "stream",
     "text": [
      "Training samples: 5634\n",
      "Testing samples: 1409\n"
     ]
    }
   ],
   "execution_count": 9
  },
  {
   "metadata": {},
   "cell_type": "markdown",
   "source": [
    "## Step 8: Train a Random Forest Classifier\n",
    "\n",
    "A **Random Forest** is an ensemble model that builds multiple decision trees and combines their outputs for better accuracy and robustness.\n",
    "\n",
    "It works well for both classification and regression tasks, handles missing values, and is less prone to overfitting than a single decision tree.\n",
    "\n",
    "We’ll start with:\n",
    "- Training the model using default parameters\n",
    "- Making predictions on the test set\n",
    "- Evaluating accuracy, precision, recall, F1-score, and confusion matrix"
   ],
   "id": "ee107c5d60f4a5e9"
  },
  {
   "metadata": {
    "ExecuteTime": {
     "end_time": "2025-10-20T13:49:17.579123Z",
     "start_time": "2025-10-20T13:49:16.456097Z"
    }
   },
   "cell_type": "code",
   "source": [
    "# Create and train the model.\n",
    "rf_model = RandomForestClassifier(random_state=42)\n",
    "rf_model.fit(X_train, y_train)\n",
    "\n",
    "# Make predictions on the test set\n",
    "rf_pred = rf_model.predict(X_test)\n",
    "\n",
    "# Evaluate performance\n",
    "print(\"Random Forest Performance\\n\")\n",
    "\n",
    "print(\"Accuracy:\", accuracy_score(y_test, rf_pred))\n",
    "print(\"\\nClassification Report:\")\n",
    "print(classification_report(y_test, rf_pred))\n",
    "\n",
    "print(\"Confusion Matrix:\")\n",
    "print(confusion_matrix(y_test, rf_pred))"
   ],
   "id": "2c60cfa5eb11efe6",
   "outputs": [
    {
     "name": "stdout",
     "output_type": "stream",
     "text": [
      "Random Forest Performance\n",
      "\n",
      "Accuracy: 0.7955997161107168\n",
      "\n",
      "Classification Report:\n",
      "              precision    recall  f1-score   support\n",
      "\n",
      "           0       0.83      0.90      0.87      1035\n",
      "           1       0.65      0.50      0.56       374\n",
      "\n",
      "    accuracy                           0.80      1409\n",
      "   macro avg       0.74      0.70      0.72      1409\n",
      "weighted avg       0.78      0.80      0.79      1409\n",
      "\n",
      "Confusion Matrix:\n",
      "[[935 100]\n",
      " [188 186]]\n"
     ]
    }
   ],
   "execution_count": 10
  },
  {
   "metadata": {},
   "cell_type": "markdown",
   "source": [
    "### Interpretation\n",
    "- The model is doing well on identifying customers who did not churn, but still struggles to catch many churners.\n",
    "\n",
    "- That’s normal — churn is harder to predict due to its imbalanced nature and more complex patterns."
   ],
   "id": "e3a5ea13a089830f"
  },
  {
   "metadata": {},
   "cell_type": "markdown",
   "source": [
    "## Step 9: Train an XGBoost Classifier (Default Settings)\n",
    "\n",
    "**XGBoost** (Extreme Gradient Boosting) is one of the most powerful and widely used gradient boosting algorithms. It builds trees in sequence, where each new tree corrects the errors of the previous ones.\n",
    "\n",
    "We'll:\n",
    "- Train an XGBoost model with default parameters\n",
    "- Make predictions on the test set\n",
    "- Evaluate it using accuracy, precision, recall, F1-score, and confusion matrix"
   ],
   "id": "dec4a4708a4976e8"
  },
  {
   "metadata": {
    "ExecuteTime": {
     "end_time": "2025-10-20T13:49:18.161137Z",
     "start_time": "2025-10-20T13:49:17.579123Z"
    }
   },
   "cell_type": "code",
   "source": [
    "# Create and train the XGBoost classifier with default settings\n",
    "xgb_model = xgb.XGBClassifier(use_label_encoder=False, eval_metric='logloss', random_state=42)\n",
    "xgb_model.fit(X_train, y_train)\n",
    "\n",
    "# Make predictions using test data\n",
    "xgb_pred = xgb_model.predict(X_test)\n",
    "\n",
    "# Evaluate the model\n",
    "print(\"XGBoost Classifier Performance (Default)\\n\")\n",
    "print(\"Accuracy:\", accuracy_score(y_test, xgb_pred))\n",
    "print(\"\\nClassification Report:\")\n",
    "print(classification_report(y_test, xgb_pred))\n",
    "print(\"Confusion Matrix:\")\n",
    "print(confusion_matrix(y_test, xgb_pred))"
   ],
   "id": "f2a5f54f8cd95233",
   "outputs": [
    {
     "name": "stdout",
     "output_type": "stream",
     "text": [
      "XGBoost Classifier Performance (Default)\n",
      "\n",
      "Accuracy: 0.7892122072391767\n",
      "\n",
      "Classification Report:\n",
      "              precision    recall  f1-score   support\n",
      "\n",
      "           0       0.84      0.88      0.86      1035\n",
      "           1       0.62      0.53      0.57       374\n",
      "\n",
      "    accuracy                           0.79      1409\n",
      "   macro avg       0.73      0.71      0.72      1409\n",
      "weighted avg       0.78      0.79      0.78      1409\n",
      "\n",
      "Confusion Matrix:\n",
      "[[913 122]\n",
      " [175 199]]\n"
     ]
    }
   ],
   "execution_count": 11
  },
  {
   "metadata": {},
   "cell_type": "markdown",
   "source": [
    "### Interpretation:\n",
    "- XGBoost performs similarly to Random Forest (slightly lower accuracy but slightly better on true churn detection — 199 vs 186).\n",
    "\n",
    "- It's still missing a fair number of churners (175 false negatives), which we may reduce through hyperparameter tuning."
   ],
   "id": "8ee5e19fc90abbb"
  },
  {
   "metadata": {},
   "cell_type": "markdown",
   "source": [
    "## Step 10: Feature Importance from XGBoost\n",
    "\n",
    "One of the strengths of tree-based models like XGBoost is that they provide **feature importance scores**.\n",
    "\n",
    "These scores show how valuable each feature was in building the model. The higher the score, the more the feature contributed to decisions across the trees.\n",
    "\n",
    "Let’s extract and plot the top features.\n"
   ],
   "id": "9ddefb18b959af94"
  },
  {
   "metadata": {
    "ExecuteTime": {
     "end_time": "2025-10-20T13:49:18.505858Z",
     "start_time": "2025-10-20T13:49:18.163144Z"
    }
   },
   "cell_type": "code",
   "source": [
    "# Get feature importance from XGBoost model\n",
    "importance_scores = xgb_model.feature_importances_\n",
    "feature_names = X.columns\n",
    "\n",
    "# Create a DataFrame for sorting and visualization\n",
    "importance_df = pd.DataFrame({\n",
    "    'Feature': feature_names,\n",
    "    'Importance': importance_scores\n",
    "}).sort_values(by='Importance', ascending=False)\n",
    "\n",
    "# Plot the top 10 important features\n",
    "plt.figure(figsize=(10, 6))\n",
    "sns.barplot(x='Importance', y='Feature', data=importance_df.head(10), palette='Blues_r')\n",
    "plt.title('Top 10 Important Features (XGBoost)')\n",
    "plt.xlabel('Importance Score')\n",
    "plt.ylabel('Feature')\n",
    "plt.tight_layout()\n",
    "plt.show()\n",
    "\n",
    "# Print top features\n",
    "print(\"Top 10 Features:\\n\", importance_df.head(10))"
   ],
   "id": "2c36aab709336666",
   "outputs": [
    {
     "data": {
      "text/plain": [
       "<Figure size 1000x600 with 1 Axes>"
      ],
      "image/png": "[encoded data removed]"
     },
     "metadata": {},
     "output_type": "display_data"
    },
    {
     "name": "stdout",
     "output_type": "stream",
     "text": [
      "Top 10 Features:\n",
      "               Feature  Importance\n",
      "14           Contract    0.345619\n",
      "3          Dependents    0.136436\n",
      "7    Internet Service    0.084142\n",
      "8     Online Security    0.072561\n",
      "11       Tech Support    0.048637\n",
      "4       Tenure Months    0.029875\n",
      "5       Phone Service    0.027800\n",
      "6      Multiple Lines    0.026922\n",
      "13   Streaming Movies    0.025544\n",
      "15  Paperless Billing    0.024040\n"
     ]
    }
   ],
   "execution_count": 12
  },
  {
   "metadata": {},
   "cell_type": "markdown",
   "source": [
    "### Summary of Feature Importance\n",
    "\n",
    "The XGBoost model highlighted the top drivers of customer churn:\n",
    "\n",
    "- **Contract** had the highest influence — customers on month-to-month plans are more likely to churn than those on long-term contracts.\n",
    "- **Dependents** mattered — customers with dependents tend to be more stable and less likely to churn.\n",
    "- **Internet Service**, **Online Security**, and **Tech Support** showed that customers using more services or support features are more engaged and likely to stay.\n",
    "- **Tenure** and **Multiple Lines** reflected customer commitment — longer tenure or more lines suggest higher loyalty.\n",
    "- Features like **Streaming Movies** and **Paperless Billing** had smaller impacts but still showed patterns of customer preferences and behaviors.\n",
    "\n",
    "Understanding these features can help businesses reduce churn by improving contracts, services, and support."
   ],
   "id": "5427346561dd6fcf"
  },
  {
   "metadata": {},
   "cell_type": "markdown",
   "source": [
    "## Step 11: Hyperparameter Tuning with RandomizedSearchCV\n",
    "\n",
    "To improve our XGBoost model's performance, we'll tune its hyperparameters using `RandomizedSearchCV`.\n",
    "\n",
    "Unlike Grid Search (which tries every possible combination), **Randomized Search** tests a random selection of combinations — it's much faster and still effective for large search spaces.\n",
    "\n",
    "We'll tune the following parameters:\n",
    "- `n_estimators`: Number of trees\n",
    "- `max_depth`: Maximum tree depth\n",
    "- `learning_rate`: Step size shrinkage\n",
    "- `subsample`: Row sampling per tree\n",
    "- `colsample_bytree`: Feature sampling per tree\n",
    "- `gamma`: Minimum loss reduction for splitting\n",
    "- `reg_lambda`: L2 regularization"
   ],
   "id": "8da1bddf98fd56fd"
  },
  {
   "metadata": {
    "ExecuteTime": {
     "end_time": "2025-10-20T13:49:33.409866Z",
     "start_time": "2025-10-20T13:49:18.505858Z"
    }
   },
   "cell_type": "code",
   "source": [
    "# Define hyperparameter space\n",
    "param_dist = {\n",
    "    'n_estimators': [100, 200, 300, 500],\n",
    "    'max_depth': [3, 4, 5, 6, 8, 10],\n",
    "    'learning_rate': [0.01, 0.05, 0.1, 0.2],\n",
    "    'subsample': [0.6, 0.7, 0.8, 1.0],\n",
    "    'colsample_bytree': [0.6, 0.7, 0.8, 1.0],\n",
    "    'gamma': [0, 0.1, 0.3, 0.5],\n",
    "    'reg_lambda': [0, 1, 5, 10]\n",
    "}\n",
    "\n",
    "# Initialize the classifier\n",
    "xgb_clf = xgb.XGBClassifier(use_label_encoder=False, eval_metric='logloss', random_state=42)\n",
    "\n",
    "# RandomizedSearchCV setup\n",
    "random_search = RandomizedSearchCV(\n",
    "    estimator=xgb_clf,\n",
    "    param_distributions=param_dist,\n",
    "    n_iter=50,\n",
    "    cv=3,\n",
    "    scoring='accuracy',\n",
    "    verbose=1,\n",
    "    random_state=42,\n",
    "    n_jobs=-1\n",
    ")\n",
    "\n",
    "# Fit the randomized search\n",
    "random_search.fit(X_train, y_train)\n",
    "\n",
    "# Best parameters and model\n",
    "print(\"Best Parameters Found:\\n\", random_search.best_params_)\n",
    "best_xgb = random_search.best_estimator_"
   ],
   "id": "862899972d33c8c5",
   "outputs": [
    {
     "name": "stdout",
     "output_type": "stream",
     "text": [
      "Fitting 3 folds for each of 50 candidates, totalling 150 fits\n",
      "Best Parameters Found:\n",
      " {'subsample': 0.6, 'reg_lambda': 10, 'n_estimators': 500, 'max_depth': 6, 'learning_rate': 0.01, 'gamma': 0, 'colsample_bytree': 0.7}\n"
     ]
    }
   ],
   "execution_count": 13
  },
  {
   "metadata": {},
   "cell_type": "markdown",
   "source": [
    "## Step 12: Evaluate Tuned XGBoost on Test Set\n",
    "\n",
    "We’ll now use the best model from RandomizedSearchCV to make predictions on the test set and evaluate its performance using accuracy, precision, recall, F1-score, and the confusion matrix."
   ],
   "id": "c7a7953b274fcf5a"
  },
  {
   "metadata": {
    "ExecuteTime": {
     "end_time": "2025-10-20T13:49:33.451511Z",
     "start_time": "2025-10-20T13:49:33.411873Z"
    }
   },
   "cell_type": "code",
   "source": [
    "# Make predictions with the tuned model\n",
    "xgb_best_preds = best_xgb.predict(X_test)\n",
    "\n",
    "# Evaluate tuned XGBoost\n",
    "print(\"Tuned XGBoost Performance\\n\")\n",
    "print(\"Accuracy:\", accuracy_score(y_test, xgb_best_preds))\n",
    "print(\"\\nClassification Report:\")\n",
    "print(classification_report(y_test, xgb_best_preds))\n",
    "print(\"Confusion Matrix:\")\n",
    "print(confusion_matrix(y_test, xgb_best_preds))"
   ],
   "id": "803525be05caba62",
   "outputs": [
    {
     "name": "stdout",
     "output_type": "stream",
     "text": [
      "Tuned XGBoost Performance\n",
      "\n",
      "Accuracy: 0.8062455642299503\n",
      "\n",
      "Classification Report:\n",
      "              precision    recall  f1-score   support\n",
      "\n",
      "           0       0.84      0.90      0.87      1035\n",
      "           1       0.67      0.53      0.59       374\n",
      "\n",
      "    accuracy                           0.81      1409\n",
      "   macro avg       0.76      0.72      0.73      1409\n",
      "weighted avg       0.80      0.81      0.80      1409\n",
      "\n",
      "Confusion Matrix:\n",
      "[[936  99]\n",
      " [174 200]]\n"
     ]
    }
   ],
   "execution_count": 14
  },
  {
   "metadata": {},
   "cell_type": "markdown",
   "source": [
    "## Final Model Evaluation Summary\n",
    "\n",
    "After training and evaluating multiple models, we selected the best one using performance metrics like accuracy, precision, recall, F1-score, and the confusion matrix."
   ],
   "id": "d428f9a9a41280cc"
  },
  {
   "metadata": {},
   "cell_type": "markdown",
   "source": [
    "### Summary of Model Performance\n",
    "\n",
    "| Model                   | Accuracy | F1-Score (Churn) | False Positives | False Negatives |\n",
    "|------------------------|----------|------------------|------------------|------------------|\n",
    "| Random Forest (Default) | 79.6%    | 0.56             | 100              | 188              |\n",
    "| XGBoost (Default)       | 78.9%    | 0.57             | 122              | 175              |\n",
    "| **XGBoost (Tuned)**     | **80.6%**| **0.59**         | 99               | 174              |"
   ],
   "id": "12167329a1f18734"
  },
  {
   "metadata": {},
   "cell_type": "markdown",
   "source": [
    "### Key Takeaways\n",
    "\n",
    "- The **tuned XGBoost model** achieved the **best overall performance**, improving both precision and recall for detecting churned customers.\n",
    "- It strikes a better balance between identifying churners (recall) and minimizing false alarms (precision).\n",
    "- Feature importance analysis revealed that factors like `Contract`, `Dependents`, and `Internet Service` are strong churn indicators.\n",
    "- This approach demonstrates how **tree ensemble models**, when properly tuned, can be powerful tools for business-critical tasks like churn prediction."
   ],
   "id": "9617c212aa80ca3c"
  },
  {
   "metadata": {},
   "cell_type": "markdown",
   "source": [
    "### Final Decision\n",
    "\n",
    "We’ll use the **tuned XGBoost model** as our production candidate for churn prediction."
   ],
   "id": "23a65d94315a0bf5"
  },
  {
   "metadata": {
    "ExecuteTime": {
     "end_time": "2025-10-20T13:49:33.457160Z",
     "start_time": "2025-10-20T13:49:33.453517Z"
    }
   },
   "cell_type": "code",
   "source": "",
   "id": "e56fc6838274e6f",
   "outputs": [],
   "execution_count": 14
  }
 ],
 "metadata": {
  "kernelspec": {
   "display_name": "Python 3",
   "language": "python",
   "name": "python3"
  },
  "language_info": {
   "codemirror_mode": {
    "name": "ipython",
    "version": 2
   },
   "file_extension": ".py",
   "mimetype": "text/x-python",
   "name": "python",
   "nbconvert_exporter": "python",
   "pygments_lexer": "ipython2",
   "version": "2.7.6"
  }
 },
 "nbformat": 4,
 "nbformat_minor": 5
}
